{
 "cells": [
  {
   "cell_type": "markdown",
   "metadata": {
    "id": "jkxRSYjzA1oX"
   },
   "source": [
    "##### Copyright 2025 Google LLC."
   ]
  },
  {
   "cell_type": "code",
   "execution_count": null,
   "metadata": {
    "cellView": "form",
    "execution": {
     "iopub.execute_input": "2025-03-27T05:02:15.583095Z",
     "iopub.status.busy": "2025-03-27T05:02:15.58275Z",
     "iopub.status.idle": "2025-03-27T05:02:15.61237Z",
     "shell.execute_reply": "2025-03-27T05:02:15.611268Z",
     "shell.execute_reply.started": "2025-03-27T05:02:15.583053Z"
    },
    "id": "5u5OZ2ShA3BA",
    "jupyter": {
     "source_hidden": true
    }
   },
   "outputs": [],
   "source": [
    "# @title Licensed under the Apache License, Version 2.0 (the \"License\");\n",
    "# you may not use this file except in compliance with the License.\n",
    "# You may obtain a copy of the License at\n",
    "#\n",
    "# https://www.apache.org/licenses/LICENSE-2.0\n",
    "#\n",
    "# Unless required by applicable law or agreed to in writing, software\n",
    "# distributed under the License is distributed on an \"AS IS\" BASIS,\n",
    "# WITHOUT WARRANTIES OR CONDITIONS OF ANY KIND, either express or implied.\n",
    "# See the License for the specific language governing permissions and\n",
    "# limitations under the License."
   ]
  },
  {
   "cell_type": "markdown",
   "metadata": {
    "id": "csNPnkuCobmG"
   },
   "source": [
    "# Day 1 - Prompting\n",
    "\n",
    "Welcome to the Kaggle 5-day Generative AI course!\n",
    "\n",
    "This notebook will show you how to get started with the Gemini API and walk you through some of the example prompts and techniques that you can also read about in the Prompting whitepaper. You don't need to read the whitepaper to use this notebook, but the papers will give you some theoretical context and background to complement this interactive notebook.\n",
    "\n",
    "\n",
    "## Before you begin\n",
    "\n",
    "In this notebook, you'll start exploring prompting using the Python SDK and AI Studio. For some inspiration, you might enjoy exploring some apps that have been built using the Gemini family of models. Here are a few that we like, and we think you will too.\n",
    "\n",
    "* [TextFX](https://textfx.withgoogle.com/) is a suite of AI-powered tools for rappers, made in collaboration with Lupe Fiasco,\n",
    "* [SQL Talk](https://sql-talk-r5gdynozbq-uc.a.run.app/) shows how you can talk directly to a database using the Gemini API,\n",
    "* [NotebookLM](https://notebooklm.google/) uses Gemini models to build your own personal AI research assistant.\n",
    "\n",
    "\n",
    "## For help\n",
    "\n",
    "**Common issues are covered in the [FAQ and troubleshooting guide](https://www.kaggle.com/code/markishere/day-0-troubleshooting-and-faqs).**\n",
    "\n",
    "## New for Gemini 2.0!\n",
    "\n",
    "This course material was first launched in November 2024. The AI and LLM space is moving incredibly fast, so we have made some updates to use the latest models and capabilities.\n",
    "\n",
    "* These codelabs have been updated to use the Gemini 2.0 family of models.\n",
    "* The Python SDK has been updated from `google-generativeai` to the new, unified [`google-genai`](https://pypi.org/project/google-genai) SDK.\n",
    "  * This new SDK works with both the developer Gemini API as well as Google Cloud Vertex AI, and switching is [as simple as changing some fields](https://pypi.org/project/google-genai/#:~:text=.Client%28%29-,API%20Selection,-By%20default%2C%20the).\n",
    "* New model capabilities have been added to the relevant codelabs, such as \"thinking mode\" in this lab.\n",
    "* Day 1 includes a new [Evaluation codelab](https://www.kaggle.com/code/markishere/day-1-evaluation-and-structured-output)."
   ]
  },
  {
   "attachments": {},
   "cell_type": "markdown",
   "metadata": {
    "id": "f00ea7c99e44"
   },
   "source": [
    "## Get started with Kaggle notebooks\n",
    "\n",
    "If this is your first time using a Kaggle notebook, welcome! You can read about how to use Kaggle notebooks [in the docs](https://www.kaggle.com/docs/notebooks).\n",
    "\n",
    "First, you will need to phone verify your account at kaggle.com/settings.\n",
    "\n",
    "![](https://storage.googleapis.com/kaggle-media/Images/5dgai_0.png)"
   ]
  },
  {
   "cell_type": "markdown",
   "metadata": {},
   "source": [
    "To run this notebook, as well as the others in this course, you will need to make a copy, or fork, the notebook. Look for the `Copy and Edit` button in the top-right, and **click it** to make an editable, private copy of the notebook. It should look like this one:\n",
    "\n",
    "![Copy and Edit button](https://storage.googleapis.com/kaggle-media/Images/5gdai_sc_1.png)\n",
    "\n",
    "Your copy will now have a ▶️ **Run** button next to each code cell that you can press to execute that cell. These notebooks are expected to be run in order from top-to-bottom, but you are encouraged to add new cells, run your own code and explore. If you get stuck, you can try the `Factory reset` option in the `Run` menu, or head back to the original notebook and make a fresh copy.\n",
    "\n",
    "![Run cell button](https://storage.googleapis.com/kaggle-media/Images/5gdai_sc_2.png)\n",
    "\n",
    "### Problems?\n",
    "\n",
    "If you have any problems, head over to the [Kaggle Discord](https://discord.com/invite/kaggle), find the [`#5dgai-q-and-a` channel](https://discord.com/channels/1101210829807956100/1303438695143178251) and ask for help."
   ]
  },
  {
   "cell_type": "markdown",
   "metadata": {
    "id": "ExkOXcPxtTb5"
   },
   "source": [
    "## Get started with the Gemini API\n",
    "\n",
    "All of the exercises in this notebook will use the [Gemini API](https://ai.google.dev/gemini-api/) by way of the [Python SDK](https://pypi.org/project/google-genai/). Each of these prompts can be accessed directly in [Google AI Studio](https://aistudio.google.com/) too, so if you would rather use a web interface and skip the code for this activity, look for the <img src=\"https://ai.google.dev/site-assets/images/marketing/home/icon-ais.png\" style=\"height: 24px\" height=24/> AI Studio link on each prompt."
   ]
  },
  {
   "cell_type": "markdown",
   "metadata": {},
   "source": [
    "Next, you will need to add your API key to your Kaggle Notebook as a Kaggle User Secret.\n",
    "\n",
    "![](https://storage.googleapis.com/kaggle-media/Images/5dgai_1.png)\n",
    "![](https://storage.googleapis.com/kaggle-media/Images/5dgai_2.png)\n",
    "![](https://storage.googleapis.com/kaggle-media/Images/5dgai_3.png)\n",
    "![](https://storage.googleapis.com/kaggle-media/Images/5dgai_4.png)"
   ]
  },
  {
   "cell_type": "markdown",
   "metadata": {
    "id": "UAjUV3BsvFXQ"
   },
   "source": [
    "### Install the SDK"
   ]
  },
  {
   "cell_type": "code",
   "execution_count": 1,
   "metadata": {
    "execution": {
     "iopub.execute_input": "2025-03-30T20:56:03.548816Z",
     "iopub.status.busy": "2025-03-30T20:56:03.548374Z",
     "iopub.status.idle": "2025-03-30T20:56:20.837953Z",
     "shell.execute_reply": "2025-03-30T20:56:20.836616Z",
     "shell.execute_reply.started": "2025-03-30T20:56:03.548779Z"
    },
    "id": "NzwzJFU9LqkJ"
   },
   "outputs": [],
   "source": [
    "!pip uninstall -qy jupyterlab  # Remove unused packages from Kaggle's base image that conflict\n",
    "!pip install -U -q \"google-genai==1.7.0\""
   ]
  },
  {
   "cell_type": "markdown",
   "metadata": {},
   "source": [
    "Import the SDK and some helpers for rendering the output."
   ]
  },
  {
   "cell_type": "code",
   "execution_count": 2,
   "metadata": {
    "execution": {
     "iopub.execute_input": "2025-03-30T20:56:34.780745Z",
     "iopub.status.busy": "2025-03-30T20:56:34.780330Z",
     "iopub.status.idle": "2025-03-30T20:56:36.028629Z",
     "shell.execute_reply": "2025-03-30T20:56:36.027746Z",
     "shell.execute_reply.started": "2025-03-30T20:56:34.780709Z"
    },
    "id": "5DwxYIRavMST"
   },
   "outputs": [],
   "source": [
    "from google import genai\n",
    "from google.genai import types\n",
    "\n",
    "from IPython.display import HTML, Markdown, display"
   ]
  },
  {
   "cell_type": "markdown",
   "metadata": {},
   "source": [
    "Set up a retry helper. This allows you to \"Run all\" without worrying about per-minute quota."
   ]
  },
  {
   "cell_type": "code",
   "execution_count": 4,
   "metadata": {
    "execution": {
     "iopub.execute_input": "2025-03-30T20:56:56.897338Z",
     "iopub.status.busy": "2025-03-30T20:56:56.896729Z",
     "iopub.status.idle": "2025-03-30T20:56:56.902989Z",
     "shell.execute_reply": "2025-03-30T20:56:56.901912Z",
     "shell.execute_reply.started": "2025-03-30T20:56:56.897297Z"
    }
   },
   "outputs": [],
   "source": [
    "from google.api_core import retry\n",
    "\n",
    "\n",
    "is_retriable = lambda e: (isinstance(e, genai.errors.APIError) and e.code in {429, 503})\n",
    "\n",
    "genai.models.Models.generate_content = retry.Retry(\n",
    "    predicate=is_retriable)(genai.models.Models.generate_content)"
   ]
  },
  {
   "cell_type": "markdown",
   "metadata": {
    "id": "DNEt2BCOvOJ1"
   },
   "source": [
    "### Set up your API key\n",
    "\n",
    "To run the following cell, your API key must be stored it in a [Kaggle secret](https://www.kaggle.com/discussions/product-feedback/114053) named `GOOGLE_API_KEY`.\n",
    "\n",
    "If you don't already have an API key, you can grab one from [AI Studio](https://aistudio.google.com/app/apikey). You can find [detailed instructions in the docs](https://ai.google.dev/gemini-api/docs/api-key).\n",
    "\n",
    "To make the key available through Kaggle secrets, choose `Secrets` from the `Add-ons` menu and follow the instructions to add your key or enable it for this notebook."
   ]
  },
  {
   "cell_type": "code",
   "execution_count": 6,
   "metadata": {
    "execution": {
     "iopub.execute_input": "2025-03-30T20:58:48.218586Z",
     "iopub.status.busy": "2025-03-30T20:58:48.218224Z",
     "iopub.status.idle": "2025-03-30T20:58:48.333847Z",
     "shell.execute_reply": "2025-03-30T20:58:48.332951Z",
     "shell.execute_reply.started": "2025-03-30T20:58:48.218557Z"
    },
    "id": "SHl0bkPCvayd"
   },
   "outputs": [],
   "source": [
    "from kaggle_secrets import UserSecretsClient\n",
    "\n",
    "GOOGLE_API_KEY = UserSecretsClient().get_secret(\"GOOGLE_API_KEY\")"
   ]
  },
  {
   "attachments": {},
   "cell_type": "markdown",
   "metadata": {
    "id": "4e720472fd86"
   },
   "source": [
    "If you received an error response along the lines of `No user secrets exist for kernel id ...`, then you need to add your API key via `Add-ons`, `Secrets` **and** enable it.\n",
    "\n",
    "![Screenshot of the checkbox to enable GOOGLE_API_KEY secret](https://storage.googleapis.com/kaggle-media/Images/5gdai_sc_3.png)"
   ]
  },
  {
   "cell_type": "markdown",
   "metadata": {
    "id": "H_YXCYIKvyZJ"
   },
   "source": [
    "### Run your first prompt\n",
    "\n",
    "In this step, you will test that your API key is set up correctly by making a request.\n",
    "\n",
    "The Python SDK uses a [`Client` object](https://googleapis.github.io/python-genai/genai.html#genai.client.Client) to make requests to the API. The client lets you control which back-end to use (between the Gemini API and Vertex AI) and handles authentication (the API key).\n",
    "\n",
    "The `gemini-2.0-flash` model has been selected here.\n",
    "\n",
    "**Note**: If you see a `TransportError` on this step, you may need to **🔁 Factory reset** the notebook one time."
   ]
  },
  {
   "cell_type": "code",
   "execution_count": 7,
   "metadata": {
    "execution": {
     "iopub.execute_input": "2025-03-30T21:00:29.864188Z",
     "iopub.status.busy": "2025-03-30T21:00:29.863808Z",
     "iopub.status.idle": "2025-03-30T21:00:32.853813Z",
     "shell.execute_reply": "2025-03-30T21:00:32.852570Z",
     "shell.execute_reply.started": "2025-03-30T21:00:29.864139Z"
    },
    "id": "BV1o0PmcvyJF"
   },
   "outputs": [
    {
     "name": "stdout",
     "output_type": "stream",
     "text": [
      "Imagine you have a really, really smart puppy named Sparky. Sparky can learn tricks, but he needs you to show him how to do them lots and lots of times.\n",
      "\n",
      "**AI is like a super-smart Sparky, but instead of tricks, it learns to do things like:**\n",
      "\n",
      "*   **Recognize pictures:** You can show Sparky a million pictures of cats and dogs. Eventually, he'll learn to tell the difference between them! That's like AI figuring out what's in a photo on your phone.\n",
      "*   **Understand words:** You can talk to Sparky and teach him what words like \"sit\" and \"stay\" mean. AI can learn to understand what you say to your phone's assistant like Siri or Alexa.\n",
      "*   **Play games:** You can play fetch with Sparky, and he'll learn to catch the ball better and better. AI can learn to play video games and even beat the best human players!\n",
      "*   **Write stories:** You can read books to Sparky, and he might eventually understand how stories are made. AI can learn from reading tons of books and then write its own stories.\n",
      "\n",
      "**How does Sparky (and AI) learn?**\n",
      "\n",
      "You teach Sparky by:\n",
      "\n",
      "1.  **Showing him examples:** You show him how to sit and give him a treat when he does it right.\n",
      "2.  **Giving him feedback:** You tell him \"good dog!\" when he does it well and maybe gently correct him if he makes a mistake.\n",
      "\n",
      "AI learns in a similar way, but with numbers and computer code instead of treats and words.  We give it lots of information, tell it when it's right or wrong, and it gets better over time.\n",
      "\n",
      "**So, AI is like a really smart computer program that can learn from information and do things that normally only humans can do.**  It's still learning, just like a puppy, but it's getting smarter every day!\n",
      "\n"
     ]
    }
   ],
   "source": [
    "client = genai.Client(api_key=GOOGLE_API_KEY)\n",
    "\n",
    "response = client.models.generate_content(\n",
    "    model=\"gemini-2.0-flash\",\n",
    "    contents=\"Explain AI to me like I'm a kid.\")\n",
    "\n",
    "print(response.text)"
   ]
  },
  {
   "cell_type": "markdown",
   "metadata": {
    "id": "f60ed9d8ae41"
   },
   "source": [
    "The response often comes back in markdown format, which you can render directly in this notebook."
   ]
  },
  {
   "cell_type": "code",
   "execution_count": 8,
   "metadata": {
    "execution": {
     "iopub.execute_input": "2025-03-30T21:02:18.950296Z",
     "iopub.status.busy": "2025-03-30T21:02:18.949523Z",
     "iopub.status.idle": "2025-03-30T21:02:18.957675Z",
     "shell.execute_reply": "2025-03-30T21:02:18.956723Z",
     "shell.execute_reply.started": "2025-03-30T21:02:18.950260Z"
    },
    "id": "c933e5e460a5"
   },
   "outputs": [
    {
     "data": {
      "text/markdown": [
       "Imagine you have a really, really smart puppy named Sparky. Sparky can learn tricks, but he needs you to show him how to do them lots and lots of times.\n",
       "\n",
       "**AI is like a super-smart Sparky, but instead of tricks, it learns to do things like:**\n",
       "\n",
       "*   **Recognize pictures:** You can show Sparky a million pictures of cats and dogs. Eventually, he'll learn to tell the difference between them! That's like AI figuring out what's in a photo on your phone.\n",
       "*   **Understand words:** You can talk to Sparky and teach him what words like \"sit\" and \"stay\" mean. AI can learn to understand what you say to your phone's assistant like Siri or Alexa.\n",
       "*   **Play games:** You can play fetch with Sparky, and he'll learn to catch the ball better and better. AI can learn to play video games and even beat the best human players!\n",
       "*   **Write stories:** You can read books to Sparky, and he might eventually understand how stories are made. AI can learn from reading tons of books and then write its own stories.\n",
       "\n",
       "**How does Sparky (and AI) learn?**\n",
       "\n",
       "You teach Sparky by:\n",
       "\n",
       "1.  **Showing him examples:** You show him how to sit and give him a treat when he does it right.\n",
       "2.  **Giving him feedback:** You tell him \"good dog!\" when he does it well and maybe gently correct him if he makes a mistake.\n",
       "\n",
       "AI learns in a similar way, but with numbers and computer code instead of treats and words.  We give it lots of information, tell it when it's right or wrong, and it gets better over time.\n",
       "\n",
       "**So, AI is like a really smart computer program that can learn from information and do things that normally only humans can do.**  It's still learning, just like a puppy, but it's getting smarter every day!\n"
      ],
      "text/plain": [
       "<IPython.core.display.Markdown object>"
      ]
     },
     "execution_count": 8,
     "metadata": {},
     "output_type": "execute_result"
    }
   ],
   "source": [
    "Markdown(response.text)"
   ]
  },
  {
   "cell_type": "markdown",
   "metadata": {
    "id": "byx0pT9ZMW2Q"
   },
   "source": [
    "### Start a chat\n",
    "\n",
    "The previous example uses a single-turn, text-in/text-out structure, but you can also set up a multi-turn chat structure too."
   ]
  },
  {
   "cell_type": "code",
   "execution_count": 9,
   "metadata": {
    "execution": {
     "iopub.execute_input": "2025-03-30T21:03:00.334912Z",
     "iopub.status.busy": "2025-03-30T21:03:00.334143Z",
     "iopub.status.idle": "2025-03-30T21:03:00.968469Z",
     "shell.execute_reply": "2025-03-30T21:03:00.967380Z",
     "shell.execute_reply.started": "2025-03-30T21:03:00.334875Z"
    },
    "id": "lV_S5ZL5MidD"
   },
   "outputs": [
    {
     "name": "stdout",
     "output_type": "stream",
     "text": [
      "It's nice to meet you, Zlork! I'm an AI, so I don't have a name. How can I help you today?\n",
      "\n"
     ]
    }
   ],
   "source": [
    "chat = client.chats.create(model='gemini-2.0-flash', history=[])\n",
    "response = chat.send_message('Hello! My name is Zlork.')\n",
    "print(response.text)"
   ]
  },
  {
   "cell_type": "code",
   "execution_count": 10,
   "metadata": {
    "execution": {
     "iopub.execute_input": "2025-03-30T21:03:05.793861Z",
     "iopub.status.busy": "2025-03-30T21:03:05.793473Z",
     "iopub.status.idle": "2025-03-30T21:03:06.959114Z",
     "shell.execute_reply": "2025-03-30T21:03:06.958116Z",
     "shell.execute_reply.started": "2025-03-30T21:03:05.793827Z"
    },
    "id": "7b0372c3c64a"
   },
   "outputs": [
    {
     "name": "stdout",
     "output_type": "stream",
     "text": [
      "Okay, here's an interesting fact about dinosaurs that might surprise you:\n",
      "\n",
      "**Many dinosaurs, including the mighty Tyrannosaurus Rex, likely had feathers!**\n",
      "\n",
      "While we often picture dinosaurs with scales, fossil evidence suggests that many theropods (the group of dinosaurs that includes T-Rex, Velociraptor, and birds) had feathers. These feathers weren't necessarily for flight; they might have been used for insulation, display, or even camouflage. Some dinosaurs may have even had brightly colored feathers!\n",
      "\n",
      "This changes the classic image of dinosaurs quite a bit, and it also helps support the theory that birds are directly descended from theropod dinosaurs. Pretty cool, right?\n",
      "\n"
     ]
    }
   ],
   "source": [
    "response = chat.send_message('Can you tell me something interesting about dinosaurs?')\n",
    "print(response.text)"
   ]
  },
  {
   "cell_type": "markdown",
   "metadata": {},
   "source": [
    "While you have the `chat` object alive, the conversation state\n",
    "persists. Confirm that by asking if it knows the user's name."
   ]
  },
  {
   "cell_type": "code",
   "execution_count": 11,
   "metadata": {
    "execution": {
     "iopub.execute_input": "2025-03-30T21:04:49.417055Z",
     "iopub.status.busy": "2025-03-30T21:04:49.416154Z",
     "iopub.status.idle": "2025-03-30T21:04:49.911104Z",
     "shell.execute_reply": "2025-03-30T21:04:49.910174Z",
     "shell.execute_reply.started": "2025-03-30T21:04:49.417016Z"
    },
    "id": "d3f9591392a7"
   },
   "outputs": [
    {
     "name": "stdout",
     "output_type": "stream",
     "text": [
      "Yes, I remember your name is Zlork.\n",
      "\n"
     ]
    }
   ],
   "source": [
    "response = chat.send_message('Do you remember what my name is?')\n",
    "print(response.text)"
   ]
  },
  {
   "cell_type": "markdown",
   "metadata": {
    "id": "2KAjpr1200sW"
   },
   "source": [
    "### Choose a model\n",
    "\n",
    "The Gemini API provides access to a number of models from the Gemini model family. Read about the available models and their capabilities on the [model overview page](https://ai.google.dev/gemini-api/docs/models/gemini).\n",
    "\n",
    "In this step you'll use the API to list all of the available models."
   ]
  },
  {
   "cell_type": "code",
   "execution_count": 12,
   "metadata": {
    "execution": {
     "iopub.execute_input": "2025-03-30T21:05:08.783933Z",
     "iopub.status.busy": "2025-03-30T21:05:08.783461Z",
     "iopub.status.idle": "2025-03-30T21:05:09.002099Z",
     "shell.execute_reply": "2025-03-30T21:05:09.001094Z",
     "shell.execute_reply.started": "2025-03-30T21:05:08.783882Z"
    },
    "id": "uUUZa2uq2jDm"
   },
   "outputs": [
    {
     "name": "stdout",
     "output_type": "stream",
     "text": [
      "models/chat-bison-001\n",
      "models/text-bison-001\n",
      "models/embedding-gecko-001\n",
      "models/gemini-1.0-pro-vision-latest\n",
      "models/gemini-pro-vision\n",
      "models/gemini-1.5-pro-latest\n",
      "models/gemini-1.5-pro-001\n",
      "models/gemini-1.5-pro-002\n",
      "models/gemini-1.5-pro\n",
      "models/gemini-1.5-flash-latest\n",
      "models/gemini-1.5-flash-001\n",
      "models/gemini-1.5-flash-001-tuning\n",
      "models/gemini-1.5-flash\n",
      "models/gemini-1.5-flash-002\n",
      "models/gemini-1.5-flash-8b\n",
      "models/gemini-1.5-flash-8b-001\n",
      "models/gemini-1.5-flash-8b-latest\n",
      "models/gemini-1.5-flash-8b-exp-0827\n",
      "models/gemini-1.5-flash-8b-exp-0924\n",
      "models/gemini-2.5-pro-exp-03-25\n",
      "models/gemini-2.0-flash-exp\n",
      "models/gemini-2.0-flash\n",
      "models/gemini-2.0-flash-001\n",
      "models/gemini-2.0-flash-exp-image-generation\n",
      "models/gemini-2.0-flash-lite-001\n",
      "models/gemini-2.0-flash-lite\n",
      "models/gemini-2.0-flash-lite-preview-02-05\n",
      "models/gemini-2.0-flash-lite-preview\n",
      "models/gemini-2.0-pro-exp\n",
      "models/gemini-2.0-pro-exp-02-05\n",
      "models/gemini-exp-1206\n",
      "models/gemini-2.0-flash-thinking-exp-01-21\n",
      "models/gemini-2.0-flash-thinking-exp\n",
      "models/gemini-2.0-flash-thinking-exp-1219\n",
      "models/learnlm-1.5-pro-experimental\n",
      "models/gemma-3-27b-it\n",
      "models/embedding-001\n",
      "models/text-embedding-004\n",
      "models/gemini-embedding-exp-03-07\n",
      "models/gemini-embedding-exp\n",
      "models/aqa\n",
      "models/imagen-3.0-generate-002\n"
     ]
    }
   ],
   "source": [
    "for model in client.models.list():\n",
    "  print(model.name)"
   ]
  },
  {
   "cell_type": "markdown",
   "metadata": {
    "id": "rN49kSI54R1v"
   },
   "source": [
    "The [`models.list`](https://ai.google.dev/api/models#method:-models.list) response also returns additional information about the model's capabilities, like the token limits and supported parameters."
   ]
  },
  {
   "cell_type": "code",
   "execution_count": 15,
   "metadata": {
    "execution": {
     "iopub.execute_input": "2025-03-30T21:07:25.746784Z",
     "iopub.status.busy": "2025-03-30T21:07:25.746406Z",
     "iopub.status.idle": "2025-03-30T21:07:25.974648Z",
     "shell.execute_reply": "2025-03-30T21:07:25.973684Z",
     "shell.execute_reply.started": "2025-03-30T21:07:25.746750Z"
    },
    "id": "k7JJ1K6j4Rl8"
   },
   "outputs": [
    {
     "name": "stdout",
     "output_type": "stream",
     "text": [
      "{'description': 'Experimental release (March 25th, 2025) of Gemini 2.5 Pro',\n",
      " 'display_name': 'Gemini 2.5 Pro Experimental 03-25',\n",
      " 'input_token_limit': 1048576,\n",
      " 'name': 'models/gemini-2.5-pro-exp-03-25',\n",
      " 'output_token_limit': 65536,\n",
      " 'supported_actions': ['generateContent', 'countTokens'],\n",
      " 'tuned_model_info': {},\n",
      " 'version': '2.5-exp-03-25'}\n"
     ]
    }
   ],
   "source": [
    "from pprint import pprint\n",
    "\n",
    "for model in client.models.list():\n",
    "  #if model.name == 'models/gemini-2.0-flash':\n",
    "  if model.name == 'models/gemini-2.5-pro-exp-03-25':\n",
    "    pprint(model.to_json_dict())\n",
    "    break"
   ]
  },
  {
   "cell_type": "markdown",
   "metadata": {
    "id": "5rU_UBlZdooM"
   },
   "source": [
    "## Explore generation parameters\n",
    "\n"
   ]
  },
  {
   "cell_type": "markdown",
   "metadata": {
    "id": "G7NfEizeipbW"
   },
   "source": [
    "### Output length\n",
    "\n",
    "When generating text with an LLM, the output length affects cost and performance. Generating more tokens increases computation, leading to higher energy consumption, latency, and cost.\n",
    "\n",
    "To stop the model from generating tokens past a limit, you can specify the `max_output_tokens` parameter when using the Gemini API. Specifying this parameter does not influence the generation of the output tokens, so the output will not become more stylistically or textually succinct, but it will stop generating tokens once the specified length is reached. Prompt engineering may be required to generate a more complete output for your given limit."
   ]
  },
  {
   "cell_type": "code",
   "execution_count": 19,
   "metadata": {
    "execution": {
     "iopub.execute_input": "2025-03-30T21:22:20.460829Z",
     "iopub.status.busy": "2025-03-30T21:22:20.460483Z",
     "iopub.status.idle": "2025-03-30T21:22:21.963524Z",
     "shell.execute_reply": "2025-03-30T21:22:21.962435Z",
     "shell.execute_reply.started": "2025-03-30T21:22:20.460798Z"
    },
    "id": "qVf23JsIi9ma"
   },
   "outputs": [
    {
     "name": "stdout",
     "output_type": "stream",
     "text": [
      "## The Humble Olive: A Cornerstone of Modern Society\n",
      "\n",
      "The olive, that small, seemingly insignificant fruit, plays a surprisingly crucial role in modern society. Far beyond simply being a flavorful addition to salads and pizzas, the olive and its derivative products are deeply intertwined with our economy, health, culture, and environment. From the sprawling groves of the Mediterranean to the cutting-edge research labs dedicated to its health benefits, the olive tree and its fruit represent a historical legacy and a vital component of our modern world.\n",
      "\n",
      "Historically, the olive has been a symbol of peace, prosperity, and wisdom, a legacy deeply ingrained in Mediterranean civilizations. From ancient Greece, where olive oil was used for everything from religious ceremonies to athletic competitions, to the Roman Empire, where it fueled lamps and seasoned food, the olive tree has been a constant source of sustenance and cultural significance. This legacy continues today, with olive oil remaining a central ingredient in Mediterranean cuisine, often touted as the foundation of a healthy and balanced diet. This\n"
     ]
    }
   ],
   "source": [
    "from google.genai import types\n",
    "\n",
    "short_config = types.GenerateContentConfig(max_output_tokens=200)\n",
    "\n",
    "response = client.models.generate_content(\n",
    "    model='gemini-2.0-flash',\n",
    "    config=short_config,\n",
    "    contents='Write a 1000 word essay on the importance of olives in modern society.')\n",
    "\n",
    "print(response.text)"
   ]
  },
  {
   "cell_type": "code",
   "execution_count": 20,
   "metadata": {
    "execution": {
     "iopub.execute_input": "2025-03-30T21:23:34.498751Z",
     "iopub.status.busy": "2025-03-30T21:23:34.497996Z",
     "iopub.status.idle": "2025-03-30T21:23:35.703197Z",
     "shell.execute_reply": "2025-03-30T21:23:35.702269Z",
     "shell.execute_reply.started": "2025-03-30T21:23:34.498704Z"
    },
    "id": "W-3kR2F5kdMR"
   },
   "outputs": [
    {
     "name": "stdout",
     "output_type": "stream",
     "text": [
      "From sun-drenched groves, a verdant gleam,\n",
      "The olive comes, a vital dream.\n",
      "Pressed into oil, a golden stream,\n",
      "Nourishing bodies, it would seem.\n",
      "\n",
      "On pizzas perched, in salads bright,\n",
      "A savory depth, a welcome light.\n",
      "In tapenades, a salty bite,\n",
      "The olive reigns, both dark and white.\n",
      "\n",
      "A taste of peace, a symbol old,\n",
      "Its benefits in stories told.\n",
      "So raise a glass, let's be bold,\n",
      "To the humble olive, worth more than gold.\n",
      "\n"
     ]
    }
   ],
   "source": [
    "response = client.models.generate_content(\n",
    "    model='gemini-2.0-flash',\n",
    "    config=short_config,\n",
    "    contents='Write a short poem on the importance of olives in modern society.')\n",
    "\n",
    "print(response.text)"
   ]
  },
  {
   "cell_type": "code",
   "execution_count": 21,
   "metadata": {
    "execution": {
     "iopub.execute_input": "2025-03-30T21:24:38.364849Z",
     "iopub.status.busy": "2025-03-30T21:24:38.364468Z",
     "iopub.status.idle": "2025-03-30T21:24:40.062702Z",
     "shell.execute_reply": "2025-03-30T21:24:40.061679Z",
     "shell.execute_reply.started": "2025-03-30T21:24:38.364814Z"
    }
   },
   "outputs": [
    {
     "name": "stdout",
     "output_type": "stream",
     "text": [
      "(Record scratch) Yo! Check the mic, one two...\n",
      "\n",
      "(Verse 1)\n",
      "From the Mediterranean, a flavor divine,\n",
      "Little green gems, on the food scene they shine.\n",
      "Olives I'm talkin', yeah, that's the name,\n",
      "More than just garnish, elevate the game!\n",
      "Pizza, pasta, salads galore,\n",
      "Adding that kick, we always ask for more.\n",
      "Tapenade spread, a taste so refined,\n",
      "Olive oil flowin', one of a kind!\n",
      "\n",
      "(Verse 2)\n",
      "Packed with nutrients, good fats in the stack,\n",
      "Heart health boostin', ain't no turnin' back.\n",
      "Oleic acid, a powerful defense,\n",
      "Keeps the body strong, makes perfect sense.\n",
      "Ancient history, a symbol of peace,\n",
      "Now on your table, bringin' foodie release.\n",
      "Martinis shaken, or served straight up,\n",
      "Olives reign supreme, fillin' my\n"
     ]
    }
   ],
   "source": [
    "response = client.models.generate_content(\n",
    "    model='gemini-2.0-flash',\n",
    "    config=short_config,\n",
    "    contents='Write a short rap on the importance of olives in modern society.')\n",
    "\n",
    "print(response.text)"
   ]
  },
  {
   "cell_type": "code",
   "execution_count": 24,
   "metadata": {
    "execution": {
     "iopub.execute_input": "2025-03-30T21:36:25.980036Z",
     "iopub.status.busy": "2025-03-30T21:36:25.979577Z",
     "iopub.status.idle": "2025-03-30T21:36:27.566925Z",
     "shell.execute_reply": "2025-03-30T21:36:27.565960Z",
     "shell.execute_reply.started": "2025-03-30T21:36:25.979992Z"
    }
   },
   "outputs": [
    {
     "name": "stdout",
     "output_type": "stream",
     "text": [
      "(Record scratch) Yo, lemme drop some knowledge, crispy and bold\n",
      "'Bout the olive, a story that needs to be told.\n",
      "Not just a snack, a garnish, a party-time treat,\n",
      "Olives run deeper, they can't be beat!\n",
      "\n",
      "(Verse 1)\n",
      "From ancient Greece to modern day spreads,\n",
      "Olive oil flowin', fillin' up our heads.\n",
      "Healthy fats pumpin', yeah, that's the key,\n",
      "Keepin' arteries clear, wild and free!\n",
      "Mediterranean diet, you heard the hype?\n",
      "Olives center stage, shinin' bright like a light!\n",
      "On salads, on pizzas, a savory delight,\n",
      "Fuelin' your body, mornin', noon, and night!\n",
      "\n",
      "(Verse 2)\n",
      "Got a dry Martini? Olive's gotta be there!\n",
      "Enhance the flavor, beyond compare!\n",
      "Tapenades rockin', on crackers so crisp,\n"
     ]
    }
   ],
   "source": [
    "low_temp_config = types.GenerateContentConfig(temperature=0.0)\n",
    "\n",
    "response = client.models.generate_content(\n",
    "    model='gemini-2.0-flash',\n",
    "    config=short_config,\n",
    "    contents='Write a short rap on the importance of olives in modern society.')\n",
    "\n",
    "print(response.text)"
   ]
  },
  {
   "cell_type": "markdown",
   "metadata": {
    "id": "3ZhDSLB6lqqB"
   },
   "source": [
    "Explore with your own prompts. Try a prompt with a restrictive output limit and then adjust the prompt to work within that limit."
   ]
  },
  {
   "cell_type": "markdown",
   "metadata": {
    "id": "alx-WaAvir_9"
   },
   "source": [
    "### Temperature\n",
    "\n",
    "Temperature controls the degree of randomness in token selection. Higher temperatures result in a higher number of candidate tokens from which the next output token is selected, and can produce more diverse results, while lower temperatures have the opposite effect, such that a temperature of 0 results in greedy decoding, selecting the most probable token at each step.\n",
    "\n",
    "Temperature doesn't provide any guarantees of randomness, but it can be used to \"nudge\" the output somewhat."
   ]
  },
  {
   "cell_type": "code",
   "execution_count": 22,
   "metadata": {
    "execution": {
     "iopub.execute_input": "2025-03-30T21:34:44.642556Z",
     "iopub.status.busy": "2025-03-30T21:34:44.642094Z",
     "iopub.status.idle": "2025-03-30T21:34:46.692059Z",
     "shell.execute_reply": "2025-03-30T21:34:46.691049Z",
     "shell.execute_reply.started": "2025-03-30T21:34:44.642517Z"
    },
    "id": "SHraGMzqnZqt"
   },
   "outputs": [
    {
     "name": "stdout",
     "output_type": "stream",
     "text": [
      "Orange.\n",
      " -------------------------\n",
      "Magenta\n",
      " -------------------------\n",
      "Turquoise\n",
      " -------------------------\n",
      "Cerulean\n",
      " -------------------------\n",
      "Mauve.\n",
      " -------------------------\n"
     ]
    }
   ],
   "source": [
    "high_temp_config = types.GenerateContentConfig(temperature=2.0)\n",
    "\n",
    "\n",
    "for _ in range(5):\n",
    "  response = client.models.generate_content(\n",
    "      model='gemini-2.0-flash',\n",
    "      config=high_temp_config,\n",
    "      contents='Pick a random colour... (respond in a single word)')\n",
    "\n",
    "  if response.text:\n",
    "    print(response.text, '-' * 25)"
   ]
  },
  {
   "cell_type": "markdown",
   "metadata": {
    "id": "z3J4pCTuof7e"
   },
   "source": [
    "Now try the same prompt with temperature set to zero. Note that the output is not completely deterministic, as other parameters affect token selection, but the results will tend to be more stable."
   ]
  },
  {
   "cell_type": "code",
   "execution_count": 23,
   "metadata": {
    "execution": {
     "iopub.execute_input": "2025-03-30T21:35:01.488289Z",
     "iopub.status.busy": "2025-03-30T21:35:01.487885Z",
     "iopub.status.idle": "2025-03-30T21:35:03.475842Z",
     "shell.execute_reply": "2025-03-30T21:35:03.474739Z",
     "shell.execute_reply.started": "2025-03-30T21:35:01.488253Z"
    },
    "id": "clymkWv-PfUZ"
   },
   "outputs": [
    {
     "name": "stdout",
     "output_type": "stream",
     "text": [
      "Azure\n",
      " -------------------------\n",
      "Azure\n",
      " -------------------------\n",
      "Azure\n",
      " -------------------------\n",
      "Azure\n",
      " -------------------------\n",
      "Azure\n",
      " -------------------------\n"
     ]
    }
   ],
   "source": [
    "low_temp_config = types.GenerateContentConfig(temperature=0.0)\n",
    "\n",
    "for _ in range(5):\n",
    "  response = client.models.generate_content(\n",
    "      model='gemini-2.0-flash',\n",
    "      config=low_temp_config,\n",
    "      contents='Pick a random colour... (respond in a single word)')\n",
    "\n",
    "  if response.text:\n",
    "    print(response.text, '-' * 25)"
   ]
  },
  {
   "cell_type": "markdown",
   "metadata": {
    "id": "St5nt3vzitsZ"
   },
   "source": [
    "### Top-P\n",
    "\n",
    "Like temperature, the top-P parameter is also used to control the diversity of the model's output.\n",
    "\n",
    "Top-P defines the probability threshold that, once cumulatively exceeded, tokens stop being selected as candidates. A top-P of 0 is typically equivalent to greedy decoding, and a top-P of 1 typically selects every token in the model's vocabulary.\n",
    "\n",
    "You may also see top-K referenced in LLM literature. Top-K is not configurable in the Gemini 2.0 series of models, but can be changed in older models. Top-K is a positive integer that defines the number of most probable tokens from which to select the output token. A top-K of 1 selects a single token, performing greedy decoding.\n",
    "\n",
    "\n",
    "Run this example a number of times, change the settings and observe the change in output."
   ]
  },
  {
   "cell_type": "code",
   "execution_count": 25,
   "metadata": {
    "execution": {
     "iopub.execute_input": "2025-03-30T21:38:17.297623Z",
     "iopub.status.busy": "2025-03-30T21:38:17.297227Z",
     "iopub.status.idle": "2025-03-30T21:38:21.863769Z",
     "shell.execute_reply": "2025-03-30T21:38:21.862630Z",
     "shell.execute_reply.started": "2025-03-30T21:38:17.297589Z"
    },
    "id": "lPlzpEavUV8F"
   },
   "outputs": [
    {
     "name": "stdout",
     "output_type": "stream",
     "text": [
      "Jasper wasn't just any cat. He wasn't content with naps in sunbeams and chasing dust bunnies. Jasper craved adventure. He yearned for the unknown, the thrill of discovery, the scent of faraway lands carried on the breeze. One day, the opportunity arose.\n",
      "\n",
      "The back door, usually locked tighter than a drum, was ajar. A tempting sliver of freedom glowed in the dim hallway. Jasper hesitated only a purr-beat. His tail twitched, his whiskers vibrated with anticipation, and he slipped through the gap.\n",
      "\n",
      "The world exploded with new sensations. Smells bombarded him – freshly cut grass, damp earth, the tantalizing aroma of a robin's nest hidden in the rose bushes. He followed the scent trail, his sleek black fur brushing against dewy leaves.\n",
      "\n",
      "His adventure began in the garden. He stalked buzzing bees, wrestled with fallen leaves, and climbed a dizzyingly high trellis, feeling like a conquering hero surveying his domain. But the garden was just a stepping stone. He craved something more.\n",
      "\n",
      "He hopped the fence, landing silently in a world of pavement and parked cars. This was uncharted territory. He navigated the bustling street with the confidence of a seasoned explorer, dodging weaving bicycles and the rumbling wheels of monstrous vehicles.\n",
      "\n",
      "He followed a particularly intriguing smell – fish. The aroma led him to a bustling market square, a chaotic symphony of sights and sounds. He weaved through legs, his eyes wide with wonder at the overflowing stalls laden with colorful fruits, vegetables, and, most importantly, glistening fish.\n",
      "\n",
      "A kindly old woman, her face etched with wrinkles and her hands calloused, saw the longing in his emerald eyes. She chuckled, her voice like wind chimes. \"Lost, little one?\" she asked, offering him a small piece of salmon.\n",
      "\n",
      "Jasper ate it in a single, appreciative gulp. He purred, rubbing against her leg, a silent thank you. He lingered, observing the vibrant scene. He saw children laughing, vendors hawking their wares, and pigeons squabbling over discarded scraps.\n",
      "\n",
      "Suddenly, a loud BANG echoed through the square. A firework, accidentally set off by a mischievous child, exploded in a shower of sparks. Panic erupted. People screamed, pigeons took flight, and Jasper, overwhelmed by the sudden chaos, bolted.\n",
      "\n",
      "He ran blindly, his heart pounding in his chest. The familiar scents of the market faded, replaced by the sterile smell of asphalt and exhaust fumes. He was lost. Fear gnawed at him. He missed the warmth of his sunbeam, the comfort of his familiar bed.\n",
      "\n",
      "Just as despair began to creep in, he smelled it - home. A faint, yet unmistakable whiff of his owner's lavender soap, carried on the gentle breeze. He followed the scent, his hope rekindled.\n",
      "\n",
      "He rounded a corner and there it was – his house. The back door was still slightly ajar. He slipped back inside, unnoticed, a seasoned adventurer returning from a perilous journey.\n",
      "\n",
      "He curled up in his favorite sunbeam, exhausted but content. He had tasted the thrill of the unknown, faced his fears, and found his way back home. He might nap in sunbeams and chase dust bunnies again, but he knew, deep in his feline heart, that he was no longer just any cat. He was Jasper, the adventurer. And he knew, with absolute certainty, that there were more adventures to come.\n",
      "\n"
     ]
    }
   ],
   "source": [
    "model_config = types.GenerateContentConfig(\n",
    "    # These are the default values for gemini-2.0-flash.\n",
    "    temperature=1.0,\n",
    "    top_p=0.95,\n",
    ")\n",
    "\n",
    "story_prompt = \"You are a creative writer. Write a short story about a cat who goes on an adventure.\"\n",
    "response = client.models.generate_content(\n",
    "    model='gemini-2.0-flash',\n",
    "    config=model_config,\n",
    "    contents=story_prompt)\n",
    "\n",
    "print(response.text)"
   ]
  },
  {
   "cell_type": "markdown",
   "metadata": {
    "id": "rMrYs1koY6DX"
   },
   "source": [
    "## Prompting\n",
    "\n",
    "This section contains some prompts from the chapter for you to try out directly in the API. Try changing the text here to see how each prompt performs with different instructions, more examples, or any other changes you can think of."
   ]
  },
  {
   "cell_type": "markdown",
   "metadata": {
    "id": "hhj_tQidZJP7"
   },
   "source": [
    "### Zero-shot\n",
    "\n",
    "Zero-shot prompts are prompts that describe the request for the model directly.\n",
    "\n",
    "<table align=left>\n",
    "  <td>\n",
    "    <a target=\"_blank\" href=\"https://aistudio.google.com/prompts/1gzKKgDHwkAvexG5Up0LMtl1-6jKMKe4g\"><img src=\"https://ai.google.dev/site-assets/images/marketing/home/icon-ais.png\" style=\"height: 24px\" height=24/> Open in AI Studio</a>\n",
    "  </td>\n",
    "</table>"
   ]
  },
  {
   "cell_type": "code",
   "execution_count": 26,
   "metadata": {
    "execution": {
     "iopub.execute_input": "2025-03-30T21:44:52.157455Z",
     "iopub.status.busy": "2025-03-30T21:44:52.157050Z",
     "iopub.status.idle": "2025-03-30T21:44:52.659887Z",
     "shell.execute_reply": "2025-03-30T21:44:52.658920Z",
     "shell.execute_reply.started": "2025-03-30T21:44:52.157415Z"
    },
    "id": "1_t-cwnDZzbH"
   },
   "outputs": [
    {
     "name": "stdout",
     "output_type": "stream",
     "text": [
      "POSITIVE\n",
      "\n"
     ]
    }
   ],
   "source": [
    "model_config = types.GenerateContentConfig(\n",
    "    temperature=0.1,\n",
    "    top_p=1,\n",
    "    max_output_tokens=5,\n",
    ")\n",
    "\n",
    "zero_shot_prompt = \"\"\"Classify movie reviews as POSITIVE, NEUTRAL or NEGATIVE.\n",
    "Review: \"Her\" is a disturbing study revealing the direction\n",
    "humanity is headed if AI is allowed to keep evolving,\n",
    "unchecked. I wish there were more movies like this masterpiece.\n",
    "Sentiment: \"\"\"\n",
    "\n",
    "response = client.models.generate_content(\n",
    "    model='gemini-2.0-flash',\n",
    "    config=model_config,\n",
    "    contents=zero_shot_prompt)\n",
    "\n",
    "print(response.text)"
   ]
  },
  {
   "cell_type": "markdown",
   "metadata": {
    "id": "3b5568bdeb11"
   },
   "source": [
    "#### Enum mode\n",
    "\n",
    "The models are trained to generate text, and while the Gemini 2.0 models are great at following instructions, other models can sometimes produce more text than you may wish for. In the preceding example, the model will output the label, but sometimes it can include a preceding \"Sentiment\" label, and without an output token limit, it may also add explanatory text afterwards. See [this prompt in AI Studio](https://aistudio.google.com/prompts/1gzKKgDHwkAvexG5Up0LMtl1-6jKMKe4g) for an example.\n",
    "\n",
    "The Gemini API has an [Enum mode](https://github.com/google-gemini/cookbook/blob/main/quickstarts/Enum.ipynb) feature that allows you to constrain the output to a fixed set of values."
   ]
  },
  {
   "cell_type": "code",
   "execution_count": 27,
   "metadata": {
    "execution": {
     "iopub.execute_input": "2025-03-30T21:59:08.694057Z",
     "iopub.status.busy": "2025-03-30T21:59:08.693680Z",
     "iopub.status.idle": "2025-03-30T21:59:09.256427Z",
     "shell.execute_reply": "2025-03-30T21:59:09.255326Z",
     "shell.execute_reply.started": "2025-03-30T21:59:08.694025Z"
    },
    "id": "ad118a56c598"
   },
   "outputs": [
    {
     "name": "stdout",
     "output_type": "stream",
     "text": [
      "positive\n"
     ]
    }
   ],
   "source": [
    "import enum\n",
    "\n",
    "class Sentiment(enum.Enum):\n",
    "    POSITIVE = \"positive\"\n",
    "    NEUTRAL = \"neutral\"\n",
    "    NEGATIVE = \"negative\"\n",
    "\n",
    "\n",
    "response = client.models.generate_content(\n",
    "    model='gemini-2.0-flash',\n",
    "    config=types.GenerateContentConfig(\n",
    "        response_mime_type=\"text/x.enum\",\n",
    "        response_schema=Sentiment\n",
    "    ),\n",
    "    contents=zero_shot_prompt)\n",
    "\n",
    "print(response.text)"
   ]
  },
  {
   "cell_type": "markdown",
   "metadata": {},
   "source": [
    "When using constrained output like an enum, the Python SDK will attempt to convert the model's text response into a Python object automatically. It's stored in the `response.parsed` field."
   ]
  },
  {
   "cell_type": "code",
   "execution_count": 28,
   "metadata": {
    "execution": {
     "iopub.execute_input": "2025-03-30T22:01:53.593383Z",
     "iopub.status.busy": "2025-03-30T22:01:53.592952Z",
     "iopub.status.idle": "2025-03-30T22:01:53.598999Z",
     "shell.execute_reply": "2025-03-30T22:01:53.597820Z",
     "shell.execute_reply.started": "2025-03-30T22:01:53.593344Z"
    }
   },
   "outputs": [
    {
     "name": "stdout",
     "output_type": "stream",
     "text": [
      "Sentiment.POSITIVE\n",
      "<enum 'Sentiment'>\n"
     ]
    }
   ],
   "source": [
    "enum_response = response.parsed\n",
    "print(enum_response)\n",
    "print(type(enum_response))"
   ]
  },
  {
   "cell_type": "markdown",
   "metadata": {
    "id": "0udiSwNbv45W"
   },
   "source": [
    "### One-shot and few-shot\n",
    "\n",
    "Providing an example of the expected response is known as a \"one-shot\" prompt. When you provide multiple examples, it is a \"few-shot\" prompt.\n",
    "\n",
    "<table align=left>\n",
    "  <td>\n",
    "    <a target=\"_blank\" href=\"https://aistudio.google.com/prompts/1jjWkjUSoMXmLvMJ7IzADr_GxHPJVV2bg\"><img src=\"https://ai.google.dev/site-assets/images/marketing/home/icon-ais.png\" style=\"height: 24px\" height=24/> Open in AI Studio</a>\n",
    "  </td>\n",
    "</table>\n"
   ]
  },
  {
   "cell_type": "code",
   "execution_count": 29,
   "metadata": {
    "execution": {
     "iopub.execute_input": "2025-03-30T22:03:20.591505Z",
     "iopub.status.busy": "2025-03-30T22:03:20.590474Z",
     "iopub.status.idle": "2025-03-30T22:03:21.205864Z",
     "shell.execute_reply": "2025-03-30T22:03:21.204869Z",
     "shell.execute_reply.started": "2025-03-30T22:03:20.591443Z"
    },
    "id": "hd4mVUukwOKZ"
   },
   "outputs": [
    {
     "name": "stdout",
     "output_type": "stream",
     "text": [
      "```json\n",
      "{\n",
      "\"size\": \"large\",\n",
      "\"type\": \"normal\",\n",
      "\"ingredients\": [\"cheese\", \"pineapple\"]\n",
      "}\n",
      "```\n",
      "\n"
     ]
    }
   ],
   "source": [
    "few_shot_prompt = \"\"\"Parse a customer's pizza order into valid JSON:\n",
    "\n",
    "EXAMPLE:\n",
    "I want a small pizza with cheese, tomato sauce, and pepperoni.\n",
    "JSON Response:\n",
    "```\n",
    "{\n",
    "\"size\": \"small\",\n",
    "\"type\": \"normal\",\n",
    "\"ingredients\": [\"cheese\", \"tomato sauce\", \"pepperoni\"]\n",
    "}\n",
    "```\n",
    "\n",
    "EXAMPLE:\n",
    "Can I get a large pizza with tomato sauce, basil and mozzarella\n",
    "JSON Response:\n",
    "```\n",
    "{\n",
    "\"size\": \"large\",\n",
    "\"type\": \"normal\",\n",
    "\"ingredients\": [\"tomato sauce\", \"basil\", \"mozzarella\"]\n",
    "}\n",
    "```\n",
    "\n",
    "ORDER:\n",
    "\"\"\"\n",
    "\n",
    "customer_order = \"Give me a large with cheese & pineapple\"\n",
    "\n",
    "response = client.models.generate_content(\n",
    "    model='gemini-2.0-flash',\n",
    "    config=types.GenerateContentConfig(\n",
    "        temperature=0.1,\n",
    "        top_p=1,\n",
    "        max_output_tokens=250,\n",
    "    ),\n",
    "    contents=[few_shot_prompt, customer_order])\n",
    "\n",
    "print(response.text)"
   ]
  },
  {
   "cell_type": "markdown",
   "metadata": {
    "id": "021293096f08"
   },
   "source": [
    "#### JSON mode\n",
    "\n",
    "To provide control over the schema, and to ensure that you only receive JSON (with no other text or markdown), you can use the Gemini API's [JSON mode](https://github.com/google-gemini/cookbook/blob/main/quickstarts/JSON_mode.ipynb). This forces the model to constrain decoding, such that token selection is guided by the supplied schema."
   ]
  },
  {
   "cell_type": "code",
   "execution_count": 30,
   "metadata": {
    "execution": {
     "iopub.execute_input": "2025-03-30T22:11:49.154870Z",
     "iopub.status.busy": "2025-03-30T22:11:49.154384Z",
     "iopub.status.idle": "2025-03-30T22:11:49.954500Z",
     "shell.execute_reply": "2025-03-30T22:11:49.953557Z",
     "shell.execute_reply.started": "2025-03-30T22:11:49.154829Z"
    },
    "id": "50fbf0260912"
   },
   "outputs": [
    {
     "name": "stdout",
     "output_type": "stream",
     "text": [
      "{\n",
      "  \"size\": \"large\",\n",
      "  \"ingredients\": [\"apple\", \"chocolate\"],\n",
      "  \"type\": \"dessert\"\n",
      "}\n"
     ]
    }
   ],
   "source": [
    "import typing_extensions as typing\n",
    "\n",
    "class PizzaOrder(typing.TypedDict):\n",
    "    size: str\n",
    "    ingredients: list[str]\n",
    "    type: str\n",
    "\n",
    "\n",
    "response = client.models.generate_content(\n",
    "    model='gemini-2.0-flash',\n",
    "    config=types.GenerateContentConfig(\n",
    "        temperature=0.1,\n",
    "        response_mime_type=\"application/json\",\n",
    "        response_schema=PizzaOrder,\n",
    "    ),\n",
    "    contents=\"Can I have a large dessert pizza with apple and chocolate\")\n",
    "\n",
    "print(response.text)"
   ]
  },
  {
   "cell_type": "markdown",
   "metadata": {
    "id": "4a93e338e57c"
   },
   "source": [
    "### Chain of Thought (CoT)\n",
    "\n",
    "Direct prompting on LLMs can return answers quickly and (in terms of output token usage) efficiently, but they can be prone to hallucination. The answer may \"look\" correct (in terms of language and syntax) but is incorrect in terms of factuality and reasoning.\n",
    "\n",
    "Chain-of-Thought prompting is a technique where you instruct the model to output intermediate reasoning steps, and it typically gets better results, especially when combined with few-shot examples. It is worth noting that this technique doesn't completely eliminate hallucinations, and that it tends to cost more to run, due to the increased token count.\n",
    "\n",
    "Models like the Gemini family are trained to be \"chatty\" or \"thoughtful\" and will provide reasoning steps without prompting, so for this simple example you can ask the model to be more direct in the prompt to force a non-reasoning response. Try re-running this step if the model gets lucky and gets the answer correct on the first try."
   ]
  },
  {
   "cell_type": "code",
   "execution_count": 31,
   "metadata": {
    "execution": {
     "iopub.execute_input": "2025-03-30T22:14:16.676633Z",
     "iopub.status.busy": "2025-03-30T22:14:16.675969Z",
     "iopub.status.idle": "2025-03-30T22:14:17.188738Z",
     "shell.execute_reply": "2025-03-30T22:14:17.187814Z",
     "shell.execute_reply.started": "2025-03-30T22:14:16.676598Z"
    },
    "id": "5715555db1c1"
   },
   "outputs": [
    {
     "name": "stdout",
     "output_type": "stream",
     "text": [
      "48\n",
      "\n"
     ]
    }
   ],
   "source": [
    "prompt = \"\"\"When I was 4 years old, my partner was 3 times my age. Now, I\n",
    "am 20 years old. How old is my partner? Return the answer directly.\"\"\"\n",
    "\n",
    "response = client.models.generate_content(\n",
    "    model='gemini-2.0-flash',\n",
    "    contents=prompt)\n",
    "\n",
    "print(response.text)"
   ]
  },
  {
   "cell_type": "markdown",
   "metadata": {
    "id": "e12b19677bfd"
   },
   "source": [
    "Now try the same approach, but indicate to the model that it should \"think step by step\"."
   ]
  },
  {
   "cell_type": "code",
   "execution_count": 32,
   "metadata": {
    "execution": {
     "iopub.execute_input": "2025-03-30T22:14:54.689991Z",
     "iopub.status.busy": "2025-03-30T22:14:54.689028Z",
     "iopub.status.idle": "2025-03-30T22:14:55.804183Z",
     "shell.execute_reply": "2025-03-30T22:14:55.803191Z",
     "shell.execute_reply.started": "2025-03-30T22:14:54.689949Z"
    },
    "id": "ffd7536a481f"
   },
   "outputs": [
    {
     "data": {
      "text/markdown": [
       "Here's how to solve the problem:\n",
       "\n",
       "1. **Find the age difference:** When you were 4, your partner was 3 times your age, meaning they were 4 * 3 = 12 years old.\n",
       "2. **Calculate the age difference:** The age difference between you and your partner is 12 - 4 = 8 years.\n",
       "3. **Determine the partner's current age:** Since the age difference remains constant, your partner is always 8 years older than you. Now that you are 20, your partner is 20 + 8 = 28 years old.\n",
       "\n",
       "**Therefore, your partner is currently 28 years old.**\n"
      ],
      "text/plain": [
       "<IPython.core.display.Markdown object>"
      ]
     },
     "execution_count": 32,
     "metadata": {},
     "output_type": "execute_result"
    }
   ],
   "source": [
    "prompt = \"\"\"When I was 4 years old, my partner was 3 times my age. Now,\n",
    "I am 20 years old. How old is my partner? Let's think step by step.\"\"\"\n",
    "\n",
    "response = client.models.generate_content(\n",
    "    model='gemini-2.0-flash',\n",
    "    contents=prompt)\n",
    "\n",
    "Markdown(response.text)"
   ]
  },
  {
   "cell_type": "markdown",
   "metadata": {
    "id": "oiLgBQJj0V53"
   },
   "source": [
    "### ReAct: Reason and act\n",
    "\n",
    "In this example you will run a ReAct prompt directly in the Gemini API and perform the searching steps yourself. As this prompt follows a well-defined structure, there are frameworks available that wrap the prompt into easier-to-use APIs that make tool calls automatically, such as the LangChain example from the \"Prompting\" whitepaper.\n",
    "\n",
    "To try this out with the Wikipedia search engine, check out the [Searching Wikipedia with ReAct](https://github.com/google-gemini/cookbook/blob/main/examples/Search_Wikipedia_using_ReAct.ipynb) cookbook example.\n",
    "\n",
    "\n",
    "> Note: The prompt and in-context examples used here are from [https://github.com/ysymyth/ReAct](https://github.com/ysymyth/ReAct) which is published under an [MIT license](https://opensource.org/licenses/MIT), Copyright (c) 2023 Shunyu Yao.\n",
    "\n",
    "<table align=left>\n",
    "  <td>\n",
    "    <a target=\"_blank\" href=\"https://aistudio.google.com/prompts/18oo63Lwosd-bQ6Ay51uGogB3Wk3H8XMO\"><img src=\"https://ai.google.dev/site-assets/images/marketing/home/icon-ais.png\" style=\"height: 24px\" height=24/> Open in AI Studio</a>\n",
    "  </td>\n",
    "</table>\n"
   ]
  },
  {
   "cell_type": "code",
   "execution_count": 33,
   "metadata": {
    "execution": {
     "iopub.execute_input": "2025-03-30T22:22:38.652206Z",
     "iopub.status.busy": "2025-03-30T22:22:38.651822Z",
     "iopub.status.idle": "2025-03-30T22:22:38.659286Z",
     "shell.execute_reply": "2025-03-30T22:22:38.657928Z",
     "shell.execute_reply.started": "2025-03-30T22:22:38.652170Z"
    },
    "id": "cBgyNJ5z0VSs"
   },
   "outputs": [],
   "source": [
    "model_instructions = \"\"\"\n",
    "Solve a question answering task with interleaving Thought, Action, Observation steps. Thought can reason about the current situation,\n",
    "Observation is understanding relevant information from an Action's output and Action can be one of three types:\n",
    " (1) <search>entity</search>, which searches the exact entity on Wikipedia and returns the first paragraph if it exists. If not, it\n",
    "     will return some similar entities to search and you can try to search the information from those topics.\n",
    " (2) <lookup>keyword</lookup>, which returns the next sentence containing keyword in the current context. This only does exact matches,\n",
    "     so keep your searches short.\n",
    " (3) <finish>answer</finish>, which returns the answer and finishes the task.\n",
    "\"\"\"\n",
    "\n",
    "example1 = \"\"\"Question\n",
    "Musician and satirist Allie Goertz wrote a song about the \"The Simpsons\" character Milhouse, who Matt Groening named after who?\n",
    "\n",
    "Thought 1\n",
    "The question simplifies to \"The Simpsons\" character Milhouse is named after who. I only need to search Milhouse and find who it is named after.\n",
    "\n",
    "Action 1\n",
    "<search>Milhouse</search>\n",
    "\n",
    "Observation 1\n",
    "Milhouse Mussolini Van Houten is a recurring character in the Fox animated television series The Simpsons voiced by Pamela Hayden and created by Matt Groening.\n",
    "\n",
    "Thought 2\n",
    "The paragraph does not tell who Milhouse is named after, maybe I can look up \"named after\".\n",
    "\n",
    "Action 2\n",
    "<lookup>named after</lookup>\n",
    "\n",
    "Observation 2\n",
    "Milhouse was named after U.S. president Richard Nixon, whose middle name was Milhous.\n",
    "\n",
    "Thought 3\n",
    "Milhouse was named after U.S. president Richard Nixon, so the answer is Richard Nixon.\n",
    "\n",
    "Action 3\n",
    "<finish>Richard Nixon</finish>\n",
    "\"\"\"\n",
    "\n",
    "example2 = \"\"\"Question\n",
    "What is the elevation range for the area that the eastern sector of the Colorado orogeny extends into?\n",
    "\n",
    "Thought 1\n",
    "I need to search Colorado orogeny, find the area that the eastern sector of the Colorado orogeny extends into, then find the elevation range of the area.\n",
    "\n",
    "Action 1\n",
    "<search>Colorado orogeny</search>\n",
    "\n",
    "Observation 1\n",
    "The Colorado orogeny was an episode of mountain building (an orogeny) in Colorado and surrounding areas.\n",
    "\n",
    "Thought 2\n",
    "It does not mention the eastern sector. So I need to look up eastern sector.\n",
    "\n",
    "Action 2\n",
    "<lookup>eastern sector</lookup>\n",
    "\n",
    "Observation 2\n",
    "The eastern sector extends into the High Plains and is called the Central Plains orogeny.\n",
    "\n",
    "Thought 3\n",
    "The eastern sector of Colorado orogeny extends into the High Plains. So I need to search High Plains and find its elevation range.\n",
    "\n",
    "Action 3\n",
    "<search>High Plains</search>\n",
    "\n",
    "Observation 3\n",
    "High Plains refers to one of two distinct land regions\n",
    "\n",
    "Thought 4\n",
    "I need to instead search High Plains (United States).\n",
    "\n",
    "Action 4\n",
    "<search>High Plains (United States)</search>\n",
    "\n",
    "Observation 4\n",
    "The High Plains are a subregion of the Great Plains. From east to west, the High Plains rise in elevation from around 1,800 to 7,000 ft (550 to 2,130m).\n",
    "\n",
    "Thought 5\n",
    "High Plains rise in elevation from around 1,800 to 7,000 ft, so the answer is 1,800 to 7,000 ft.\n",
    "\n",
    "Action 5\n",
    "<finish>1,800 to 7,000 ft</finish>\n",
    "\"\"\"\n",
    "\n",
    "# Come up with more examples yourself, or take a look through https://github.com/ysymyth/ReAct/"
   ]
  },
  {
   "cell_type": "markdown",
   "metadata": {
    "id": "C3wbfstjTgey"
   },
   "source": [
    "To capture a single step at a time, while ignoring any hallucinated Observation steps, you will use `stop_sequences` to end the generation process. The steps are `Thought`, `Action`, `Observation`, in that order."
   ]
  },
  {
   "cell_type": "code",
   "execution_count": 34,
   "metadata": {
    "execution": {
     "iopub.execute_input": "2025-03-30T22:22:53.951747Z",
     "iopub.status.busy": "2025-03-30T22:22:53.951368Z",
     "iopub.status.idle": "2025-03-30T22:22:54.639049Z",
     "shell.execute_reply": "2025-03-30T22:22:54.637990Z",
     "shell.execute_reply.started": "2025-03-30T22:22:53.951714Z"
    },
    "id": "8mxrXRkRTdXm"
   },
   "outputs": [
    {
     "name": "stdout",
     "output_type": "stream",
     "text": [
      "Thought 1\n",
      "I need to find the transformers NLP paper and then find the youngest author listed on the paper.\n",
      "\n",
      "Action 1\n",
      "<search>transformers NLP paper</search>\n",
      "\n"
     ]
    }
   ],
   "source": [
    "question = \"\"\"Question\n",
    "Who was the youngest author listed on the transformers NLP paper?\n",
    "\"\"\"\n",
    "\n",
    "# You will perform the Action; so generate up to, but not including, the Observation.\n",
    "react_config = types.GenerateContentConfig(\n",
    "    stop_sequences=[\"\\nObservation\"],\n",
    "    system_instruction=model_instructions + example1 + example2,\n",
    ")\n",
    "\n",
    "# Create a chat that has the model instructions and examples pre-seeded.\n",
    "react_chat = client.chats.create(\n",
    "    model='gemini-2.0-flash',\n",
    "    config=react_config,\n",
    ")\n",
    "\n",
    "resp = react_chat.send_message(question)\n",
    "print(resp.text)"
   ]
  },
  {
   "cell_type": "markdown",
   "metadata": {
    "id": "aW2PIdLbVv3l"
   },
   "source": [
    "Now you can perform this research yourself and supply it back to the model."
   ]
  },
  {
   "cell_type": "code",
   "execution_count": 35,
   "metadata": {
    "execution": {
     "iopub.execute_input": "2025-03-30T22:29:12.901141Z",
     "iopub.status.busy": "2025-03-30T22:29:12.900108Z",
     "iopub.status.idle": "2025-03-30T22:29:13.807436Z",
     "shell.execute_reply": "2025-03-30T22:29:13.806370Z",
     "shell.execute_reply.started": "2025-03-30T22:29:12.901074Z"
    },
    "id": "mLMc0DZaV9g2"
   },
   "outputs": [
    {
     "name": "stdout",
     "output_type": "stream",
     "text": [
      "Thought 2\n",
      "The paper lists the authors: Ashish Vaswani, Noam Shazeer, Niki Parmar, Jakob Uszkoreit, Llion Jones, Aidan N. Gomez, Lukasz Kaiser, Illia Polosukhin. I need to find the birth dates of all of these authors, and find the youngest.\n",
      "\n",
      "Action 2\n",
      "<search>Ashish Vaswani birth date</search>\n",
      "\n"
     ]
    }
   ],
   "source": [
    "observation = \"\"\"Observation 1\n",
    "[1706.03762] Attention Is All You Need\n",
    "Ashish Vaswani, Noam Shazeer, Niki Parmar, Jakob Uszkoreit, Llion Jones, Aidan N. Gomez, Lukasz Kaiser, Illia Polosukhin\n",
    "We propose a new simple network architecture, the Transformer, based solely on attention mechanisms, dispensing with recurrence and convolutions entirely.\n",
    "\"\"\"\n",
    "resp = react_chat.send_message(observation)\n",
    "print(resp.text)"
   ]
  },
  {
   "cell_type": "markdown",
   "metadata": {
    "id": "bo0tzf4nX6dA"
   },
   "source": [
    "This process repeats until the `<finish>` action is reached. You can continue running this yourself if you like, or try the [Wikipedia example](https://github.com/google-gemini/cookbook/blob/main/examples/Search_Wikipedia_using_ReAct.ipynb) to see a fully automated ReAct system at work."
   ]
  },
  {
   "cell_type": "markdown",
   "metadata": {},
   "source": [
    "## Thinking mode\n",
    "\n",
    "The experiemental Gemini Flash 2.0 \"Thinking\" model has been trained to generate the \"thinking process\" the model goes through as part of its response. As a result, the Flash Thinking model is capable of stronger reasoning capabilities in its responses.\n",
    "\n",
    "Using a \"thinking mode\" model can provide you with high-quality responses without needing specialised prompting like the previous approaches. One reason this technique is effective is that you induce the model to generate relevant information (\"brainstorming\", or \"thoughts\") that is then used as part of the context in which the final response is generated.\n",
    "\n",
    "Note that when you use the API, you get the final response from the model, but the thoughts are not captured. To see the intermediate thoughts, try out [the thinking mode model in AI Studio](https://aistudio.google.com/prompts/new_chat?model=gemini-2.0-flash-thinking-exp-01-21).\n",
    "\n",
    "<table align=left>\n",
    "  <td>\n",
    "    <a target=\"_blank\" href=\"https://aistudio.google.com/prompts/1Z991SV7lZZZqioOiqIUPv9a9ix-ws4zk\"><img src=\"https://ai.google.dev/site-assets/images/marketing/home/icon-ais.png\" style=\"height: 24px\" height=24/> Open in AI Studio</a>\n",
    "  </td>\n",
    "</table>"
   ]
  },
  {
   "cell_type": "code",
   "execution_count": 36,
   "metadata": {
    "execution": {
     "iopub.execute_input": "2025-03-30T22:30:24.496219Z",
     "iopub.status.busy": "2025-03-30T22:30:24.495821Z",
     "iopub.status.idle": "2025-03-30T22:30:30.481267Z",
     "shell.execute_reply": "2025-03-30T22:30:30.480216Z",
     "shell.execute_reply.started": "2025-03-30T22:30:24.496181Z"
    }
   },
   "outputs": [
    {
     "data": {
      "text/markdown": [
       "The youngest author listed on the \"Attention is All You Need\" paper (which introduced the Transformer architecture) is **Aidan N. Gomez**.\n",
       "\n",
       "He was born in **1995**, making him approximately **22 years old** when the paper was published in December 2017.\n",
       "\n",
       "The authors of the paper are:\n",
       "\n",
       "* Ashish Vaswani\n",
       "* Noam Shazeer\n",
       "* Niki Parmar\n",
       "* Jakob Uszkoreit\n",
       "* Llion Jones\n",
       "* **Aidan N. Gomez**\n",
       "* Łukasz Kaiser\n",
       "* Illia Polosukhin"
      ],
      "text/plain": [
       "<IPython.core.display.Markdown object>"
      ]
     },
     "execution_count": 36,
     "metadata": {},
     "output_type": "execute_result"
    }
   ],
   "source": [
    "import io\n",
    "from IPython.display import Markdown, clear_output\n",
    "\n",
    "\n",
    "response = client.models.generate_content_stream(\n",
    "    model='gemini-2.0-flash-thinking-exp',\n",
    "    contents='Who was the youngest author listed on the transformers NLP paper?',\n",
    ")\n",
    "\n",
    "buf = io.StringIO()\n",
    "for chunk in response:\n",
    "    buf.write(chunk.text)\n",
    "    # Display the response as it is streamed\n",
    "    print(chunk.text, end='')\n",
    "\n",
    "# And then render the finished response as formatted markdown.\n",
    "clear_output()\n",
    "Markdown(buf.getvalue())"
   ]
  },
  {
   "cell_type": "markdown",
   "metadata": {
    "id": "jPiZ_eIIaVPt"
   },
   "source": [
    "## Code prompting"
   ]
  },
  {
   "cell_type": "markdown",
   "metadata": {
    "id": "ZinKamwXeR6C"
   },
   "source": [
    "### Generating code\n",
    "\n",
    "The Gemini family of models can be used to generate code, configuration and scripts. Generating code can be helpful when learning to code, learning a new language or for rapidly generating a first draft.\n",
    "\n",
    "It's important to be aware that since LLMs can make mistakes, and can repeat training data, it's essential to read and test your code first, and comply with any relevant licenses.\n",
    "\n",
    "<table align=left>\n",
    "  <td>\n",
    "    <a target=\"_blank\" href=\"https://aistudio.google.com/prompts/1YX71JGtzDjXQkgdes8bP6i3oH5lCRKxv\"><img src=\"https://ai.google.dev/site-assets/images/marketing/home/icon-ais.png\" style=\"height: 24px\" height=24/> Open in AI Studio</a>\n",
    "  </td>\n",
    "</table>"
   ]
  },
  {
   "cell_type": "code",
   "execution_count": 37,
   "metadata": {
    "execution": {
     "iopub.execute_input": "2025-03-30T22:31:00.048611Z",
     "iopub.status.busy": "2025-03-30T22:31:00.047706Z",
     "iopub.status.idle": "2025-03-30T22:31:00.699732Z",
     "shell.execute_reply": "2025-03-30T22:31:00.698800Z",
     "shell.execute_reply.started": "2025-03-30T22:31:00.048570Z"
    },
    "id": "fOQP9pqmeUO1"
   },
   "outputs": [
    {
     "data": {
      "text/markdown": [
       "```python\n",
       "def factorial(n):\n",
       "  \"\"\"Calculates the factorial of a non-negative integer.\"\"\"\n",
       "  if n == 0:\n",
       "    return 1\n",
       "  else:\n",
       "    return n * factorial(n-1)\n",
       "```"
      ],
      "text/plain": [
       "<IPython.core.display.Markdown object>"
      ]
     },
     "execution_count": 37,
     "metadata": {},
     "output_type": "execute_result"
    }
   ],
   "source": [
    "# The Gemini models love to talk, so it helps to specify they stick to the code if that\n",
    "# is all that you want.\n",
    "code_prompt = \"\"\"\n",
    "Write a Python function to calculate the factorial of a number. No explanation, provide only the code.\n",
    "\"\"\"\n",
    "\n",
    "response = client.models.generate_content(\n",
    "    model='gemini-2.0-flash',\n",
    "    config=types.GenerateContentConfig(\n",
    "        temperature=1,\n",
    "        top_p=1,\n",
    "        max_output_tokens=1024,\n",
    "    ),\n",
    "    contents=code_prompt)\n",
    "\n",
    "Markdown(response.text)"
   ]
  },
  {
   "cell_type": "markdown",
   "metadata": {
    "id": "wlBMWSFhgVRQ"
   },
   "source": [
    "### Code execution\n",
    "\n",
    "The Gemini API can automatically run generated code too, and will return the output.\n",
    "\n",
    "<table align=left>\n",
    "  <td>\n",
    "    <a target=\"_blank\" href=\"https://aistudio.google.com/prompts/11veFr_VYEwBWcLkhNLr-maCG0G8sS_7Z\"><img src=\"https://ai.google.dev/site-assets/images/marketing/home/icon-ais.png\" style=\"height: 24px\" height=24/> Open in AI Studio</a>\n",
    "  </td>\n",
    "</table>"
   ]
  },
  {
   "cell_type": "code",
   "execution_count": 38,
   "metadata": {
    "execution": {
     "iopub.execute_input": "2025-03-30T22:31:36.315351Z",
     "iopub.status.busy": "2025-03-30T22:31:36.314981Z",
     "iopub.status.idle": "2025-03-30T22:31:38.171999Z",
     "shell.execute_reply": "2025-03-30T22:31:38.170861Z",
     "shell.execute_reply.started": "2025-03-30T22:31:36.315320Z"
    },
    "id": "jT3OfWYfhjRL"
   },
   "outputs": [
    {
     "name": "stdout",
     "output_type": "stream",
     "text": [
      "{'text': 'Okay, I can do that. First, I will identify the first 14 odd prime '\n",
      "         'numbers. A prime number is a natural number greater than 1 that has '\n",
      "         'no positive divisors other than 1 and itself. Odd numbers are '\n",
      "         'integers not divisible by 2. Since 2 is the only even prime number, '\n",
      "         'all other primes are odd.\\n'\n",
      "         '\\n'\n",
      "         'Here are the first 14 odd prime numbers: 3, 5, 7, 11, 13, 17, 19, '\n",
      "         '23, 29, 31, 37, 41, 43, 47.\\n'\n",
      "         '\\n'\n",
      "         'Now, I will calculate their sum using a python code block.\\n'\n",
      "         '\\n'}\n",
      "-----\n",
      "{'executable_code': {'code': 'primes = [3, 5, 7, 11, 13, 17, 19, 23, 29, 31, '\n",
      "                             '37, 41, 43, 47]\\n'\n",
      "                             'sum_of_primes = sum(primes)\\n'\n",
      "                             'print(sum_of_primes)\\n',\n",
      "                     'language': 'PYTHON'}}\n",
      "-----\n",
      "{'code_execution_result': {'outcome': 'OUTCOME_OK', 'output': '326\\n'}}\n",
      "-----\n",
      "{'text': 'The sum of the first 14 odd prime numbers is 326.\\n'}\n",
      "-----\n"
     ]
    }
   ],
   "source": [
    "from pprint import pprint\n",
    "\n",
    "config = types.GenerateContentConfig(\n",
    "    tools=[types.Tool(code_execution=types.ToolCodeExecution())],\n",
    ")\n",
    "\n",
    "code_exec_prompt = \"\"\"\n",
    "Generate the first 14 odd prime numbers, then calculate their sum.\n",
    "\"\"\"\n",
    "\n",
    "response = client.models.generate_content(\n",
    "    model='gemini-2.0-flash',\n",
    "    config=config,\n",
    "    contents=code_exec_prompt)\n",
    "\n",
    "for part in response.candidates[0].content.parts:\n",
    "  pprint(part.to_json_dict())\n",
    "  print(\"-----\")"
   ]
  },
  {
   "cell_type": "markdown",
   "metadata": {
    "id": "ZspT1GSkjG6d"
   },
   "source": [
    "This response contains multiple parts, including an opening and closing text part that represent regular responses, an `executable_code` part that represents generated code and a `code_execution_result` part that represents the results from running the generated code.\n",
    "\n",
    "You can explore them individually."
   ]
  },
  {
   "cell_type": "code",
   "execution_count": 39,
   "metadata": {
    "execution": {
     "iopub.execute_input": "2025-03-30T22:32:36.546835Z",
     "iopub.status.busy": "2025-03-30T22:32:36.546499Z",
     "iopub.status.idle": "2025-03-30T22:32:36.559245Z",
     "shell.execute_reply": "2025-03-30T22:32:36.558168Z",
     "shell.execute_reply.started": "2025-03-30T22:32:36.546807Z"
    }
   },
   "outputs": [
    {
     "data": {
      "text/markdown": [
       "Okay, I can do that. First, I will identify the first 14 odd prime numbers. A prime number is a natural number greater than 1 that has no positive divisors other than 1 and itself. Odd numbers are integers not divisible by 2. Since 2 is the only even prime number, all other primes are odd.\n",
       "\n",
       "Here are the first 14 odd prime numbers: 3, 5, 7, 11, 13, 17, 19, 23, 29, 31, 37, 41, 43, 47.\n",
       "\n",
       "Now, I will calculate their sum using a python code block.\n",
       "\n"
      ],
      "text/plain": [
       "<IPython.core.display.Markdown object>"
      ]
     },
     "metadata": {},
     "output_type": "display_data"
    },
    {
     "data": {
      "text/markdown": [
       "```python\n",
       "primes = [3, 5, 7, 11, 13, 17, 19, 23, 29, 31, 37, 41, 43, 47]\n",
       "sum_of_primes = sum(primes)\n",
       "print(sum_of_primes)\n",
       "\n",
       "```"
      ],
      "text/plain": [
       "<IPython.core.display.Markdown object>"
      ]
     },
     "metadata": {},
     "output_type": "display_data"
    },
    {
     "data": {
      "text/markdown": [
       "```\n",
       "326\n",
       "\n",
       "```"
      ],
      "text/plain": [
       "<IPython.core.display.Markdown object>"
      ]
     },
     "metadata": {},
     "output_type": "display_data"
    },
    {
     "data": {
      "text/markdown": [
       "The sum of the first 14 odd prime numbers is 326.\n"
      ],
      "text/plain": [
       "<IPython.core.display.Markdown object>"
      ]
     },
     "metadata": {},
     "output_type": "display_data"
    }
   ],
   "source": [
    "for part in response.candidates[0].content.parts:\n",
    "    if part.text:\n",
    "        display(Markdown(part.text))\n",
    "    elif part.executable_code:\n",
    "        display(Markdown(f'```python\\n{part.executable_code.code}\\n```'))\n",
    "    elif part.code_execution_result:\n",
    "        if part.code_execution_result.outcome != 'OUTCOME_OK':\n",
    "            display(Markdown(f'## Status {part.code_execution_result.outcome}'))\n",
    "\n",
    "        display(Markdown(f'```\\n{part.code_execution_result.output}\\n```'))"
   ]
  },
  {
   "cell_type": "markdown",
   "metadata": {
    "id": "1gUX8QzCj4d5"
   },
   "source": [
    "### Explaining code\n",
    "\n",
    "The Gemini family of models can explain code to you too. In this example, you pass a [bash script](https://github.com/magicmonty/bash-git-prompt) and ask some questions.\n",
    "\n",
    "<table align=left>\n",
    "  <td>\n",
    "    <a target=\"_blank\" href=\"https://aistudio.google.com/prompts/1N7LGzWzCYieyOf_7bAG4plrmkpDNmUyb\"><img src=\"https://ai.google.dev/site-assets/images/marketing/home/icon-ais.png\" style=\"height: 24px\" height=24/> Open in AI Studio</a>\n",
    "  </td>\n",
    "</table>"
   ]
  },
  {
   "cell_type": "code",
   "execution_count": 40,
   "metadata": {
    "execution": {
     "iopub.execute_input": "2025-03-30T22:34:24.775978Z",
     "iopub.status.busy": "2025-03-30T22:34:24.775592Z",
     "iopub.status.idle": "2025-03-30T22:34:27.471585Z",
     "shell.execute_reply": "2025-03-30T22:34:27.470600Z",
     "shell.execute_reply.started": "2025-03-30T22:34:24.775943Z"
    },
    "id": "7_jPMMoxkIEb"
   },
   "outputs": [
    {
     "data": {
      "text/markdown": [
       "This file is a shell script, likely designed to be sourced (executed in the context of your current shell).  Its primary purpose is to **enhance your command-line prompt with information about the current Git repository.**\n",
       "\n",
       "Here's a breakdown:\n",
       "\n",
       "*   **Git Information:** It displays details about the current Git branch, status (modified, staged, untracked files), and relationship to remote repositories (ahead, behind, etc.).\n",
       "*   **Customization:** It's highly configurable, allowing you to customize the colors, symbols, and information displayed in the prompt.  It uses themes and allows for creating custom themes.\n",
       "*   **Asynchronous Updates:** It can fetch remote Git information asynchronously, preventing the prompt from slowing down your workflow.\n",
       "*   **Virtual Environment Support:**  It also has features that integrate with virtual environments (like those created by `venv`, `conda`, or `node`) and displays the active environment in the prompt.\n",
       "*   **Cross-Shell Compatibility:** Attempts to support both bash and zsh shells.\n",
       "\n",
       "**Why would you use it?**\n",
       "\n",
       "If you work with Git repositories frequently, this script provides valuable, at-a-glance information about your repository's status directly in your command prompt. This can significantly improve your workflow by:\n",
       "\n",
       "*   **Reducing the need to run `git status` manually.**\n",
       "*   **Providing a visual reminder of your current branch.**\n",
       "*   **Alerting you to uncommitted changes or conflicts.**\n",
       "*   **Showing remote tracking status.**\n",
       "\n",
       "In essence, it makes your command prompt \"Git-aware,\" providing a more informative and efficient command-line experience for Git users.\n"
      ],
      "text/plain": [
       "<IPython.core.display.Markdown object>"
      ]
     },
     "execution_count": 40,
     "metadata": {},
     "output_type": "execute_result"
    }
   ],
   "source": [
    "file_contents = !curl https://raw.githubusercontent.com/magicmonty/bash-git-prompt/refs/heads/master/gitprompt.sh\n",
    "\n",
    "explain_prompt = f\"\"\"\n",
    "Please explain what this file does at a very high level. What is it, and why would I use it?\n",
    "\n",
    "```\n",
    "{file_contents}\n",
    "```\n",
    "\"\"\"\n",
    "\n",
    "response = client.models.generate_content(\n",
    "    model='gemini-2.0-flash',\n",
    "    contents=explain_prompt)\n",
    "\n",
    "Markdown(response.text)"
   ]
  },
  {
   "cell_type": "markdown",
   "metadata": {
    "id": "2a8266d97ce5"
   },
   "source": [
    "## Learn more\n",
    "\n",
    "To learn more about prompting in depth:\n",
    "\n",
    "* Check out the whitepaper issued with today's content,\n",
    "* Try out the apps listed at the top of this notebook ([TextFX](https://textfx.withgoogle.com/), [SQL Talk](https://sql-talk-r5gdynozbq-uc.a.run.app/) and [NotebookLM](https://notebooklm.google/)),\n",
    "* Read the [Introduction to Prompting](https://ai.google.dev/gemini-api/docs/prompting-intro) from the Gemini API docs,\n",
    "* Explore the Gemini API's [prompt gallery](https://ai.google.dev/gemini-api/prompts) and try them out in AI Studio,\n",
    "* Check out the Gemini API cookbook for [inspirational examples](https://github.com/google-gemini/cookbook/blob/main/examples/) and [educational quickstarts](https://github.com/google-gemini/cookbook/blob/main/quickstarts/).\n",
    "\n",
    "Be sure to check out the codelabs on day 3 too, where you will explore some more advanced prompting with code execution.\n",
    "\n",
    "And please share anything exciting you have tried in the Discord!\n",
    "\n",
    "*- [Mark McD](https://linktr.ee/markmcd)*"
   ]
  }
 ],
 "metadata": {
  "colab": {
   "name": "day-1-prompting.ipynb",
   "toc_visible": true
  },
  "kaggle": {
   "accelerator": "none",
   "dataSources": [],
   "dockerImageVersionId": 30786,
   "isGpuEnabled": false,
   "isInternetEnabled": true,
   "language": "python",
   "sourceType": "notebook"
  },
  "kernelspec": {
   "display_name": "Python 3 (ipykernel)",
   "language": "python",
   "name": "python3"
  },
  "language_info": {
   "codemirror_mode": {
    "name": "ipython",
    "version": 3
   },
   "file_extension": ".py",
   "mimetype": "text/x-python",
   "name": "python",
   "nbconvert_exporter": "python",
   "pygments_lexer": "ipython3",
   "version": "3.12.3"
  }
 },
 "nbformat": 4,
 "nbformat_minor": 4
}
