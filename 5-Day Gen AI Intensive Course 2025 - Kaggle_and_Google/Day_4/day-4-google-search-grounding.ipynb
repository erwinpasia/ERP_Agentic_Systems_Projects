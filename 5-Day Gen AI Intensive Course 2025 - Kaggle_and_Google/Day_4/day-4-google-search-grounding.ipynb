{
 "cells": [
  {
   "cell_type": "markdown",
   "metadata": {
    "id": "kokPyXQaY3xI"
   },
   "source": [
    "##### Copyright 2025 Google LLC."
   ]
  },
  {
   "cell_type": "code",
   "execution_count": null,
   "metadata": {
    "cellView": "form",
    "execution": {
     "iopub.execute_input": "2025-04-02T04:45:09.667059Z",
     "iopub.status.busy": "2025-04-02T04:45:09.666409Z",
     "iopub.status.idle": "2025-04-02T04:45:09.674363Z",
     "shell.execute_reply": "2025-04-02T04:45:09.671932Z",
     "shell.execute_reply.started": "2025-04-02T04:45:09.667012Z"
    },
    "id": "StB_cTIkY1ZG",
    "jupyter": {
     "source_hidden": true
    }
   },
   "outputs": [],
   "source": [
    "# @title Licensed under the Apache License, Version 2.0 (the \"License\");\n",
    "# you may not use this file except in compliance with the License.\n",
    "# You may obtain a copy of the License at\n",
    "#\n",
    "# https://www.apache.org/licenses/LICENSE-2.0\n",
    "#\n",
    "# Unless required by applicable law or agreed to in writing, software\n",
    "# distributed under the License is distributed on an \"AS IS\" BASIS,\n",
    "# WITHOUT WARRANTIES OR CONDITIONS OF ANY KIND, either express or implied.\n",
    "# See the License for the specific language governing permissions and\n",
    "# limitations under the License."
   ]
  },
  {
   "cell_type": "markdown",
   "metadata": {
    "id": "q-mcOl0JY8Xg"
   },
   "source": [
    "# Day 4 - Google Search grounding with the Gemini API\n",
    "\n",
    "Welcome back to the Kaggle 5-day Generative AI course!\n",
    "\n",
    "In this optional notebook, you will use [Google Search](https://google.com/) results with the Gemini API in a technique called grounding, where the model is connected to verifiable sources of information. Using search grounding is similar to using the RAG system you implemented earlier in the week, but the Gemini API automates a lot of it for you. The model generates Google Search queries and invokes the searches automatically, retrieving relevant data from Google's index of the web and providing links to search suggestions that support the query, so your users can verify the sources.\n",
    "\n",
    "## New in Gemini 2.0\n",
    "\n",
    "Gemini 2.0 Flash provides a generous Google Search quota as part of the [free tier](https://ai.google.dev/pricing). If you switch models back to 1.5, you will need to [enable billing](https://aistudio.google.com/apikey) to use Grounding with Google Search, or you can [try it out in AI Studio](https://aistudio.google.com/). See the [earlier versions of this notebook](https://www.kaggle.com/code/markishere/day-4-google-search-grounding?scriptVersionId=207458162) for guidance. "
   ]
  },
  {
   "attachments": {},
   "cell_type": "markdown",
   "metadata": {},
   "source": [
    "## Optional: Use Google AI Studio\n",
    "\n",
    "If you wish to try out grounding with Google Search, follow this section to try it out using the AI Studio interface. Or skip ahead to the `API` section to try the feature here in your notebook.\n",
    "\n",
    "### Open AI Studio\n",
    "\n",
    "Start by going to [AI Studio](https://aistudio.google.com/prompts/new_chat). You should be in the \"New chat\" interface.\n",
    "\n",
    "Search Grounding is best with `gemini-2.0-flash`, but try out `gemini-1.5-flash` too.\n",
    "\n",
    "![New chat in AI Studio](https://storage.googleapis.com/generativeai-downloads/kaggle/ais-newchat.png)\n",
    "\n",
    "### Ask a question\n",
    "\n",
    "Now enter a prompt into the chat interface. Try asking something that is timely and might require recent information to answer, like a recent sport score. For this query, grounding will be **disabled** by default.\n",
    "\n",
    "This screenshow shows the response for `What were the top halloween costumes this year?`. Every execution will be different but typically the model talks about 2023, and hedges its responses saying it doesn't have access to specific information resulting in a general comment, rather than specific answers.\n",
    "\n",
    "![Sample question-answer pair without grounding](https://storage.googleapis.com/generativeai-downloads/kaggle/cricket-ungrounded.png)\n",
    "\n",
    "### Enable grounding\n",
    "\n",
    "On the right-hand sidebar, under the `Tools` section. Find and enable the `Grounding` option.\n",
    "\n",
    "![Enable grounding button](https://storage.googleapis.com/generativeai-downloads/kaggle/enable-grounding.png)\n",
    "\n",
    "Now re-run your question by hovering over the user prompt in the chat history, and pressing the Gemini ✨ icon to re-run your prompt.\n",
    "\n",
    "![Re-run prompt button](https://storage.googleapis.com/generativeai-downloads/kaggle/re-run-button.png)\n",
    "\n",
    "You should now see a response generated that references sources from Google Search.\n",
    "\n",
    "![Response with grounded sources from Google!](https://storage.googleapis.com/generativeai-downloads/kaggle/cricket-grounded.png)\n",
    "\n",
    "\n",
    "### Try your own queries\n",
    "\n",
    "Explore this interface and try some other queries. Share what works well in the [Discord](https://discord.com/channels/1101210829807956100/1303438361117069363)! You can start from [this blank template](https://aistudio.google.com/app/prompts/1FZtxKLFZIJ1p_0rICu8K2CNIF1tkAnf4) that has search grounding enabled.\n",
    "\n",
    "The remaining steps require an API key with billing enabled. They are not required to complete this course; if you have tried grounding in AI Studio you are done for this notebook."
   ]
  },
  {
   "cell_type": "markdown",
   "metadata": {
    "id": "Qcyq976Gbwpo"
   },
   "source": [
    "## Use the API\n",
    "\n",
    "Start by installing and importing the Gemini API Python SDK."
   ]
  },
  {
   "cell_type": "code",
   "execution_count": 1,
   "metadata": {
    "execution": {
     "iopub.execute_input": "2025-04-03T09:10:27.238018Z",
     "iopub.status.busy": "2025-04-03T09:10:27.237628Z",
     "iopub.status.idle": "2025-04-03T09:10:47.671143Z",
     "shell.execute_reply": "2025-04-03T09:10:47.669651Z",
     "shell.execute_reply.started": "2025-04-03T09:10:27.237973Z"
    },
    "id": "1ZLC4ORSbqme"
   },
   "outputs": [],
   "source": [
    "# Uninstall packages from Kaggle base image that are not needed.\n",
    "!pip uninstall -qy jupyterlab jupyterlab-lsp\n",
    "# Install the google-genai SDK for this codelab.\n",
    "!pip install -qU 'google-genai==1.7.0'"
   ]
  },
  {
   "cell_type": "code",
   "execution_count": 2,
   "metadata": {
    "execution": {
     "iopub.execute_input": "2025-04-03T09:11:18.876605Z",
     "iopub.status.busy": "2025-04-03T09:11:18.876155Z",
     "iopub.status.idle": "2025-04-03T09:11:20.324535Z",
     "shell.execute_reply": "2025-04-03T09:11:20.323449Z",
     "shell.execute_reply.started": "2025-04-03T09:11:18.876565Z"
    },
    "id": "FNkHtOAmbt2B"
   },
   "outputs": [
    {
     "data": {
      "text/plain": [
       "'1.7.0'"
      ]
     },
     "execution_count": 2,
     "metadata": {},
     "output_type": "execute_result"
    }
   ],
   "source": [
    "from google import genai\n",
    "from google.genai import types\n",
    "\n",
    "from IPython.display import Markdown, HTML, display\n",
    "\n",
    "genai.__version__"
   ]
  },
  {
   "cell_type": "markdown",
   "metadata": {
    "id": "_NO9cdffb4KR"
   },
   "source": [
    "### Set up your API key\n",
    "\n",
    "To run the following cell, your API key must be stored it in a [Kaggle secret](https://www.kaggle.com/discussions/product-feedback/114053) named `GOOGLE_API_KEY`.\n",
    "\n",
    "If you don't already have an API key, you can grab one from [AI Studio](https://aistudio.google.com/app/apikey). You can find [detailed instructions in the docs](https://ai.google.dev/gemini-api/docs/api-key).\n",
    "\n",
    "To make the key available through Kaggle secrets, choose `Secrets` from the `Add-ons` menu and follow the instructions to add your key or enable it for this notebook."
   ]
  },
  {
   "cell_type": "code",
   "execution_count": 3,
   "metadata": {
    "execution": {
     "iopub.execute_input": "2025-04-03T09:12:01.242659Z",
     "iopub.status.busy": "2025-04-03T09:12:01.242008Z",
     "iopub.status.idle": "2025-04-03T09:12:01.606540Z",
     "shell.execute_reply": "2025-04-03T09:12:01.605625Z",
     "shell.execute_reply.started": "2025-04-03T09:12:01.242617Z"
    },
    "id": "8NAmACYHb5DK"
   },
   "outputs": [],
   "source": [
    "from kaggle_secrets import UserSecretsClient\n",
    "\n",
    "GOOGLE_API_KEY = UserSecretsClient().get_secret(\"GOOGLE_API_KEY\")\n",
    "\n",
    "client = genai.Client(api_key=GOOGLE_API_KEY)"
   ]
  },
  {
   "attachments": {},
   "cell_type": "markdown",
   "metadata": {
    "id": "cfb5d41c4a03"
   },
   "source": [
    "If you received an error response along the lines of `No user secrets exist for kernel id ...`, then you need to add your API key via `Add-ons`, `Secrets` **and** enable it.\n",
    "\n",
    "![Screenshot of the checkbox to enable GOOGLE_API_KEY secret](https://storage.googleapis.com/kaggle-media/Images/5gdai_sc_3.png)"
   ]
  },
  {
   "cell_type": "markdown",
   "metadata": {},
   "source": [
    "### Automated retry"
   ]
  },
  {
   "cell_type": "code",
   "execution_count": 4,
   "metadata": {
    "execution": {
     "iopub.execute_input": "2025-04-03T09:12:07.922687Z",
     "iopub.status.busy": "2025-04-03T09:12:07.922259Z",
     "iopub.status.idle": "2025-04-03T09:12:08.141567Z",
     "shell.execute_reply": "2025-04-03T09:12:08.140464Z",
     "shell.execute_reply.started": "2025-04-03T09:12:07.922653Z"
    }
   },
   "outputs": [],
   "source": [
    "# Define a retry policy. The model might make multiple consecutive calls automatically\n",
    "# for a complex query, this ensures the client retries if it hits quota limits.\n",
    "from google.api_core import retry\n",
    "\n",
    "is_retriable = lambda e: (isinstance(e, genai.errors.APIError) and e.code in {429, 503})\n",
    "\n",
    "if not hasattr(genai.models.Models.generate_content, '__wrapped__'):\n",
    "  genai.models.Models.generate_content = retry.Retry(\n",
    "      predicate=is_retriable)(genai.models.Models.generate_content)"
   ]
  },
  {
   "cell_type": "markdown",
   "metadata": {
    "id": "Rvre6fOrcHi2"
   },
   "source": [
    "## Use search grounding\n",
    "\n",
    "### Model support\n",
    "\n",
    "Search grounding is available in a limited set of models. Find a model that supports it on [the models page](https://ai.google.dev/gemini-api/docs/models/gemini).\n",
    "\n",
    "In this guide, you'll use `gemini-2.0-flash`."
   ]
  },
  {
   "cell_type": "markdown",
   "metadata": {
    "id": "HW5RVNUierrQ"
   },
   "source": [
    "### Make a request\n",
    "\n",
    "To enable search grounding, you specify it as a tool: `google_search`. Like other tools, this is supplied as a parameter in `GenerateContentConfig`, and can be passed to `generate_content` calls as well as `chats.create` (for all chat turns) or `chat.send_message` (for specific turns).\n",
    "\n",
    "\n",
    "<table align=left>\n",
    "  <td>\n",
    "    <a target=\"_blank\" href=\"https://aistudio.google.com/app/prompts/1GTkO-gH4vd6G7LpBJ6Ay7U1OaJer7yDD\"><img src=\"https://ai.google.dev/site-assets/images/marketing/home/icon-ais.png\" style=\"height: 24px\" height=24/> Open in AI Studio</a>\n",
    "  </td>\n",
    "</table>"
   ]
  },
  {
   "cell_type": "code",
   "execution_count": 5,
   "metadata": {
    "execution": {
     "iopub.execute_input": "2025-04-03T09:12:13.055174Z",
     "iopub.status.busy": "2025-04-03T09:12:13.054603Z",
     "iopub.status.idle": "2025-04-03T09:12:13.936868Z",
     "shell.execute_reply": "2025-04-03T09:12:13.935652Z",
     "shell.execute_reply.started": "2025-04-03T09:12:13.055135Z"
    },
    "id": "JZmdaOlVfCgd"
   },
   "outputs": [
    {
     "data": {
      "text/markdown": [
       "Unfortunately, Billie Eilish doesn't have any upcoming concerts scheduled for the near future. Her last show was on June 9th, 2024 in France.\n",
       "\n",
       "To stay up-to-date on Billie Eilish's future tour dates, I recommend checking her official website, social media channels, and reliable ticketing platforms like Ticketmaster.\n"
      ],
      "text/plain": [
       "<IPython.core.display.Markdown object>"
      ]
     },
     "execution_count": 5,
     "metadata": {},
     "output_type": "execute_result"
    }
   ],
   "source": [
    "# Ask for information without search grounding.\n",
    "response = client.models.generate_content(\n",
    "    model='gemini-2.0-flash',\n",
    "    contents=\"When and where is Billie Eilish's next concert?\")\n",
    "\n",
    "Markdown(response.text)"
   ]
  },
  {
   "cell_type": "markdown",
   "metadata": {},
   "source": [
    "Now try with grounding enabled.\n",
    "\n",
    "<table align=left>\n",
    "  <td>\n",
    "    <a target=\"_blank\" href=\"https://aistudio.google.com/prompts/14lDR0VjSni6BEUCZUBqj5PzTn3J194Th\"><img src=\"https://ai.google.dev/site-assets/images/marketing/home/icon-ais.png\" style=\"height: 24px\" height=24/> Open in AI Studio</a>\n",
    "  </td>\n",
    "</table>"
   ]
  },
  {
   "cell_type": "code",
   "execution_count": 6,
   "metadata": {
    "execution": {
     "iopub.execute_input": "2025-04-03T09:12:17.812305Z",
     "iopub.status.busy": "2025-04-03T09:12:17.811767Z",
     "iopub.status.idle": "2025-04-03T09:12:19.266399Z",
     "shell.execute_reply": "2025-04-03T09:12:19.265432Z",
     "shell.execute_reply.started": "2025-04-03T09:12:17.812191Z"
    },
    "id": "i7jqG3nww6kU"
   },
   "outputs": [
    {
     "data": {
      "text/markdown": [
       "Billie Eilish's next concert is on Wednesday, April 23, 2025, at the Avicii Arena in Stockholm, Sweden. She also has another concert on Thursday, April 24, 2025, at the same venue.\n"
      ],
      "text/plain": [
       "<IPython.core.display.Markdown object>"
      ]
     },
     "execution_count": 6,
     "metadata": {},
     "output_type": "execute_result"
    }
   ],
   "source": [
    "# And now re-run the same query with search grounding enabled.\n",
    "config_with_search = types.GenerateContentConfig(\n",
    "    tools=[types.Tool(google_search=types.GoogleSearch())],\n",
    ")\n",
    "\n",
    "response = client.models.generate_content(\n",
    "    model='gemini-2.0-flash',\n",
    "    contents=\"When and where is Billie Eilish's next concert?\",\n",
    "    config=config_with_search,\n",
    ")\n",
    "\n",
    "rc = response.candidates[0]\n",
    "\n",
    "Markdown(rc.content.parts[0].text)"
   ]
  },
  {
   "cell_type": "markdown",
   "metadata": {
    "id": "SJc_0FFBgoiJ"
   },
   "source": [
    "### Response metadata\n",
    "\n",
    "When search grounding is used, the model returns extra metadata that includes links to search suggestions, supporting documents and information on how the supporting documents were used.\n",
    "\n",
    "Each \"grounding chunk\" represents information retrieved from Google Search that was used in the grounded generation request. Following the URI will take you to the source."
   ]
  },
  {
   "cell_type": "code",
   "execution_count": 7,
   "metadata": {
    "execution": {
     "iopub.execute_input": "2025-04-03T09:12:36.156755Z",
     "iopub.status.busy": "2025-04-03T09:12:36.156344Z",
     "iopub.status.idle": "2025-04-03T09:12:36.163318Z",
     "shell.execute_reply": "2025-04-03T09:12:36.162132Z",
     "shell.execute_reply.started": "2025-04-03T09:12:36.156716Z"
    },
    "id": "2P7IYMcvxtcy"
   },
   "outputs": [
    {
     "name": "stdout",
     "output_type": "stream",
     "text": [
      "ticketmaster.co.uk: https://vertexaisearch.cloud.google.com/grounding-api-redirect/AWQVqALs8-UIaktu4vcVS2yj6ewtjT3uqjiVmKLcS68kQolbcShdyx9bmClY4VLrGLWbxCqTY99pPLAgUTgGrDlp368YGOw-peQ81s2tcf_4q_1t841PW9x-8xShuTh0AOYG8JsFTn-ALTRCArVIhnBqR6OBm5ZKSQ81zzvff6pbfVI=\n"
     ]
    }
   ],
   "source": [
    "chunks = rc.grounding_metadata.grounding_chunks\n",
    "for chunk in chunks:\n",
    "    print(f'{chunk.web.title}: {chunk.web.uri}')"
   ]
  },
  {
   "cell_type": "markdown",
   "metadata": {
    "id": "ziYb2Fkjzwwx"
   },
   "source": [
    "As part of the response, there is a standalone styled HTML content block that you use to link back to relevant search suggestions related to the generation."
   ]
  },
  {
   "cell_type": "code",
   "execution_count": 8,
   "metadata": {
    "execution": {
     "iopub.execute_input": "2025-04-03T09:12:42.020377Z",
     "iopub.status.busy": "2025-04-03T09:12:42.019901Z",
     "iopub.status.idle": "2025-04-03T09:12:42.028595Z",
     "shell.execute_reply": "2025-04-03T09:12:42.027402Z",
     "shell.execute_reply.started": "2025-04-03T09:12:42.020333Z"
    },
    "id": "DQAgIGJmfxqC"
   },
   "outputs": [
    {
     "data": {
      "text/html": [
       "<style>\n",
       ".container {\n",
       "  align-items: center;\n",
       "  border-radius: 8px;\n",
       "  display: flex;\n",
       "  font-family: Google Sans, Roboto, sans-serif;\n",
       "  font-size: 14px;\n",
       "  line-height: 20px;\n",
       "  padding: 8px 12px;\n",
       "}\n",
       ".chip {\n",
       "  display: inline-block;\n",
       "  border: solid 1px;\n",
       "  border-radius: 16px;\n",
       "  min-width: 14px;\n",
       "  padding: 5px 16px;\n",
       "  text-align: center;\n",
       "  user-select: none;\n",
       "  margin: 0 8px;\n",
       "  -webkit-tap-highlight-color: transparent;\n",
       "}\n",
       ".carousel {\n",
       "  overflow: auto;\n",
       "  scrollbar-width: none;\n",
       "  white-space: nowrap;\n",
       "  margin-right: -12px;\n",
       "}\n",
       ".headline {\n",
       "  display: flex;\n",
       "  margin-right: 4px;\n",
       "}\n",
       ".gradient-container {\n",
       "  position: relative;\n",
       "}\n",
       ".gradient {\n",
       "  position: absolute;\n",
       "  transform: translate(3px, -9px);\n",
       "  height: 36px;\n",
       "  width: 9px;\n",
       "}\n",
       "@media (prefers-color-scheme: light) {\n",
       "  .container {\n",
       "    background-color: #fafafa;\n",
       "    box-shadow: 0 0 0 1px #0000000f;\n",
       "  }\n",
       "  .headline-label {\n",
       "    color: #1f1f1f;\n",
       "  }\n",
       "  .chip {\n",
       "    background-color: #ffffff;\n",
       "    border-color: #d2d2d2;\n",
       "    color: #5e5e5e;\n",
       "    text-decoration: none;\n",
       "  }\n",
       "  .chip:hover {\n",
       "    background-color: #f2f2f2;\n",
       "  }\n",
       "  .chip:focus {\n",
       "    background-color: #f2f2f2;\n",
       "  }\n",
       "  .chip:active {\n",
       "    background-color: #d8d8d8;\n",
       "    border-color: #b6b6b6;\n",
       "  }\n",
       "  .logo-dark {\n",
       "    display: none;\n",
       "  }\n",
       "  .gradient {\n",
       "    background: linear-gradient(90deg, #fafafa 15%, #fafafa00 100%);\n",
       "  }\n",
       "}\n",
       "@media (prefers-color-scheme: dark) {\n",
       "  .container {\n",
       "    background-color: #1f1f1f;\n",
       "    box-shadow: 0 0 0 1px #ffffff26;\n",
       "  }\n",
       "  .headline-label {\n",
       "    color: #fff;\n",
       "  }\n",
       "  .chip {\n",
       "    background-color: #2c2c2c;\n",
       "    border-color: #3c4043;\n",
       "    color: #fff;\n",
       "    text-decoration: none;\n",
       "  }\n",
       "  .chip:hover {\n",
       "    background-color: #353536;\n",
       "  }\n",
       "  .chip:focus {\n",
       "    background-color: #353536;\n",
       "  }\n",
       "  .chip:active {\n",
       "    background-color: #464849;\n",
       "    border-color: #53575b;\n",
       "  }\n",
       "  .logo-light {\n",
       "    display: none;\n",
       "  }\n",
       "  .gradient {\n",
       "    background: linear-gradient(90deg, #1f1f1f 15%, #1f1f1f00 100%);\n",
       "  }\n",
       "}\n",
       "</style>\n",
       "<div class=\"container\">\n",
       "  <div class=\"headline\">\n",
       "    <svg class=\"logo-light\" width=\"18\" height=\"18\" viewBox=\"9 9 35 35\" fill=\"none\" xmlns=\"http://www.w3.org/2000/svg\">\n",
       "      <path fill-rule=\"evenodd\" clip-rule=\"evenodd\" d=\"M42.8622 27.0064C42.8622 25.7839 42.7525 24.6084 42.5487 23.4799H26.3109V30.1568H35.5897C35.1821 32.3041 33.9596 34.1222 32.1258 35.3448V39.6864H37.7213C40.9814 36.677 42.8622 32.2571 42.8622 27.0064V27.0064Z\" fill=\"#4285F4\"/>\n",
       "      <path fill-rule=\"evenodd\" clip-rule=\"evenodd\" d=\"M26.3109 43.8555C30.9659 43.8555 34.8687 42.3195 37.7213 39.6863L32.1258 35.3447C30.5898 36.3792 28.6306 37.0061 26.3109 37.0061C21.8282 37.0061 18.0195 33.9811 16.6559 29.906H10.9194V34.3573C13.7563 39.9841 19.5712 43.8555 26.3109 43.8555V43.8555Z\" fill=\"#34A853\"/>\n",
       "      <path fill-rule=\"evenodd\" clip-rule=\"evenodd\" d=\"M16.6559 29.8904C16.3111 28.8559 16.1074 27.7588 16.1074 26.6146C16.1074 25.4704 16.3111 24.3733 16.6559 23.3388V18.8875H10.9194C9.74388 21.2072 9.06992 23.8247 9.06992 26.6146C9.06992 29.4045 9.74388 32.022 10.9194 34.3417L15.3864 30.8621L16.6559 29.8904V29.8904Z\" fill=\"#FBBC05\"/>\n",
       "      <path fill-rule=\"evenodd\" clip-rule=\"evenodd\" d=\"M26.3109 16.2386C28.85 16.2386 31.107 17.1164 32.9095 18.8091L37.8466 13.8719C34.853 11.082 30.9659 9.3736 26.3109 9.3736C19.5712 9.3736 13.7563 13.245 10.9194 18.8875L16.6559 23.3388C18.0195 19.2636 21.8282 16.2386 26.3109 16.2386V16.2386Z\" fill=\"#EA4335\"/>\n",
       "    </svg>\n",
       "    <svg class=\"logo-dark\" width=\"18\" height=\"18\" viewBox=\"0 0 48 48\" xmlns=\"http://www.w3.org/2000/svg\">\n",
       "      <circle cx=\"24\" cy=\"23\" fill=\"#FFF\" r=\"22\"/>\n",
       "      <path d=\"M33.76 34.26c2.75-2.56 4.49-6.37 4.49-11.26 0-.89-.08-1.84-.29-3H24.01v5.99h8.03c-.4 2.02-1.5 3.56-3.07 4.56v.75l3.91 2.97h.88z\" fill=\"#4285F4\"/>\n",
       "      <path d=\"M15.58 25.77A8.845 8.845 0 0 0 24 31.86c1.92 0 3.62-.46 4.97-1.31l4.79 3.71C31.14 36.7 27.65 38 24 38c-5.93 0-11.01-3.4-13.45-8.36l.17-1.01 4.06-2.85h.8z\" fill=\"#34A853\"/>\n",
       "      <path d=\"M15.59 20.21a8.864 8.864 0 0 0 0 5.58l-5.03 3.86c-.98-2-1.53-4.25-1.53-6.64 0-2.39.55-4.64 1.53-6.64l1-.22 3.81 2.98.22 1.08z\" fill=\"#FBBC05\"/>\n",
       "      <path d=\"M24 14.14c2.11 0 4.02.75 5.52 1.98l4.36-4.36C31.22 9.43 27.81 8 24 8c-5.93 0-11.01 3.4-13.45 8.36l5.03 3.85A8.86 8.86 0 0 1 24 14.14z\" fill=\"#EA4335\"/>\n",
       "    </svg>\n",
       "    <div class=\"gradient-container\"><div class=\"gradient\"></div></div>\n",
       "  </div>\n",
       "  <div class=\"carousel\">\n",
       "    <a class=\"chip\" href=\"https://vertexaisearch.cloud.google.com/grounding-api-redirect/AWQVqAKqtMazjLNnWTsQmu_Zz2_pdHcorsZVRo2eEsIiCGqIAZ3yxmParfbZAuBJ0hqqIKXhiJP3XGCxjL3Qdx0Lw36epa-NLcHEG-s48tvKXCLkPeil96JEWTfIokLT1WTwHkCYt1AiNpKpbFbOAUqQ58_QZ6IEOHT9OO7AIzTXvhV7ek9sGNu6dbmrv2HNkBUHemJuwBn8a6m1nYdQswhAvOhNlG4=\">Billie Eilish upcoming concerts</a>\n",
       "  </div>\n",
       "</div>\n"
      ],
      "text/plain": [
       "<IPython.core.display.HTML object>"
      ]
     },
     "execution_count": 8,
     "metadata": {},
     "output_type": "execute_result"
    }
   ],
   "source": [
    "HTML(rc.grounding_metadata.search_entry_point.rendered_content)"
   ]
  },
  {
   "cell_type": "markdown",
   "metadata": {
    "id": "pJpqJopp0H0M"
   },
   "source": [
    "The `grounding_supports` in the metadata provide a way for you to correlate the grounding chunks used to the generated output text."
   ]
  },
  {
   "cell_type": "code",
   "execution_count": 9,
   "metadata": {
    "execution": {
     "iopub.execute_input": "2025-04-03T09:15:03.605680Z",
     "iopub.status.busy": "2025-04-03T09:15:03.605275Z",
     "iopub.status.idle": "2025-04-03T09:15:03.613433Z",
     "shell.execute_reply": "2025-04-03T09:15:03.612172Z",
     "shell.execute_reply.started": "2025-04-03T09:15:03.605646Z"
    },
    "id": "sHg9Yq9U0r89"
   },
   "outputs": [
    {
     "name": "stdout",
     "output_type": "stream",
     "text": [
      "{'confidence_scores': [0.6229429],\n",
      " 'grounding_chunk_indices': [0],\n",
      " 'segment': {'end_index': 103,\n",
      "             'text': \"Billie Eilish's next concert is on Wednesday, April 23, \"\n",
      "                     '2025, at the Avicii Arena in Stockholm, Sweden.'}}\n",
      "{'confidence_scores': [0.62233],\n",
      " 'grounding_chunk_indices': [0],\n",
      " 'segment': {'end_index': 180,\n",
      "             'start_index': 104,\n",
      "             'text': 'She also has another concert on Thursday, April 24, '\n",
      "                     '2025, at the same venue.'}}\n"
     ]
    }
   ],
   "source": [
    "from pprint import pprint\n",
    "\n",
    "supports = rc.grounding_metadata.grounding_supports\n",
    "for support in supports:\n",
    "    pprint(support.to_json_dict())"
   ]
  },
  {
   "cell_type": "markdown",
   "metadata": {
    "id": "wkQAGyi87FGn"
   },
   "source": [
    "These supports can be used to highlight text in the response, or build tables of footnotes."
   ]
  },
  {
   "cell_type": "code",
   "execution_count": 10,
   "metadata": {
    "execution": {
     "iopub.execute_input": "2025-04-03T09:15:08.127364Z",
     "iopub.status.busy": "2025-04-03T09:15:08.126737Z",
     "iopub.status.idle": "2025-04-03T09:15:08.137274Z",
     "shell.execute_reply": "2025-04-03T09:15:08.135940Z",
     "shell.execute_reply.started": "2025-04-03T09:15:08.127326Z"
    },
    "id": "9_dEINt43C62"
   },
   "outputs": [
    {
     "data": {
      "text/markdown": [
       "Supported text:\n",
       "\n",
       " * Billie Eilish's next concert is on Wednesday, April 23, 2025, at the Avicii Arena in Stockholm, Sweden.<sup>[1]</sup>\n",
       "\n",
       " * She also has another concert on Thursday, April 24, 2025, at the same venue.<sup>[1]</sup>\n",
       "\n",
       "Citations:\n",
       "\n",
       "1. [ticketmaster.co.uk](https://vertexaisearch.cloud.google.com/grounding-api-redirect/AWQVqALs8-UIaktu4vcVS2yj6ewtjT3uqjiVmKLcS68kQolbcShdyx9bmClY4VLrGLWbxCqTY99pPLAgUTgGrDlp368YGOw-peQ81s2tcf_4q_1t841PW9x-8xShuTh0AOYG8JsFTn-ALTRCArVIhnBqR6OBm5ZKSQ81zzvff6pbfVI=)\n"
      ],
      "text/plain": [
       "<IPython.core.display.Markdown object>"
      ]
     },
     "execution_count": 10,
     "metadata": {},
     "output_type": "execute_result"
    }
   ],
   "source": [
    "import io\n",
    "\n",
    "markdown_buffer = io.StringIO()\n",
    "\n",
    "# Print the text with footnote markers.\n",
    "markdown_buffer.write(\"Supported text:\\n\\n\")\n",
    "for support in supports:\n",
    "    markdown_buffer.write(\" * \")\n",
    "    markdown_buffer.write(\n",
    "        response.text[support.segment.start_index : support.segment.end_index]\n",
    "    )\n",
    "\n",
    "    for i in support.grounding_chunk_indices:\n",
    "        chunk = chunks[i].web\n",
    "        markdown_buffer.write(f\"<sup>[{i+1}]</sup>\")\n",
    "\n",
    "    markdown_buffer.write(\"\\n\\n\")\n",
    "\n",
    "\n",
    "# And print the footnotes.\n",
    "markdown_buffer.write(\"Citations:\\n\\n\")\n",
    "for i, chunk in enumerate(chunks, start=1):\n",
    "    markdown_buffer.write(f\"{i}. [{chunk.web.title}]({chunk.web.uri})\\n\")\n",
    "\n",
    "\n",
    "Markdown(markdown_buffer.getvalue())"
   ]
  },
  {
   "cell_type": "markdown",
   "metadata": {},
   "source": [
    "## Search with tools\n",
    "\n",
    "In this example, you'll use enable the Google Search grounding tool and the code generation tool across two steps. In the first step, the model will use Google Search to find the requested information and then in the follow-up question, it generates code to plot the results.\n",
    "\n",
    "This usage includes textual, visual and code parts, so first define a function to help visualise these."
   ]
  },
  {
   "cell_type": "code",
   "execution_count": 11,
   "metadata": {
    "execution": {
     "iopub.execute_input": "2025-04-03T09:16:03.482118Z",
     "iopub.status.busy": "2025-04-03T09:16:03.481672Z",
     "iopub.status.idle": "2025-04-03T09:16:03.489421Z",
     "shell.execute_reply": "2025-04-03T09:16:03.488161Z",
     "shell.execute_reply.started": "2025-04-03T09:16:03.482042Z"
    }
   },
   "outputs": [],
   "source": [
    "from IPython.display import display, Image, Markdown\n",
    "\n",
    "def show_response(response):\n",
    "    for p in response.candidates[0].content.parts:\n",
    "        if p.text:\n",
    "            display(Markdown(p.text))\n",
    "        elif p.inline_data:\n",
    "            display(Image(p.inline_data.data))\n",
    "        else:\n",
    "            print(p.to_json_dict())\n",
    "    \n",
    "        display(Markdown('----'))"
   ]
  },
  {
   "cell_type": "markdown",
   "metadata": {},
   "source": [
    "Now start a chat asking for some information. Here you provide the Google Search tool so that the model can look up data from Google's Search index."
   ]
  },
  {
   "cell_type": "code",
   "execution_count": 12,
   "metadata": {
    "execution": {
     "iopub.execute_input": "2025-04-03T09:16:09.756328Z",
     "iopub.status.busy": "2025-04-03T09:16:09.755925Z",
     "iopub.status.idle": "2025-04-03T09:16:12.223498Z",
     "shell.execute_reply": "2025-04-03T09:16:12.222195Z",
     "shell.execute_reply.started": "2025-04-03T09:16:09.756292Z"
    }
   },
   "outputs": [
    {
     "data": {
      "text/markdown": [
       "Here is the medal tally for the top 10 countries at the 2024 Paris Olympics, as of August 12, 2024:\n",
       "\n",
       "1.  **United States of America:** 40 Gold, 44 Silver, 42 Bronze (126 total)\n",
       "2.  **People's Republic of China:** 40 Gold, 27 Silver, 24 Bronze (91 total)\n",
       "3.  **Japan:** 20 Gold, 12 Silver, 13 Bronze (45 total)\n",
       "4.  **Australia:** 18 Gold, 19 Silver, 16 Bronze (53 total)\n",
       "5.  **France:** 16 Gold, 26 Silver, 22 Bronze (64 total)\n",
       "6.  **Netherlands:** 15 Gold, 7 Silver, 12 Bronze (34 total)\n",
       "7.  **Great Britain:** 14 Gold, 22 Silver, 29 Bronze (65 total)\n",
       "8.  **Republic of Korea:** 13 Gold, 9 Silver, 10 Bronze (32 total)\n",
       "9.  **Italy:** 12 Gold, 13 Silver, 15 Bronze (40 total)\n",
       "10. **Germany:** 12 Gold, 13 Silver, 8 Bronze (33 total)"
      ],
      "text/plain": [
       "<IPython.core.display.Markdown object>"
      ]
     },
     "metadata": {},
     "output_type": "display_data"
    },
    {
     "data": {
      "text/markdown": [
       "----"
      ],
      "text/plain": [
       "<IPython.core.display.Markdown object>"
      ]
     },
     "metadata": {},
     "output_type": "display_data"
    }
   ],
   "source": [
    "config_with_search = types.GenerateContentConfig(\n",
    "    tools=[types.Tool(google_search=types.GoogleSearch())],\n",
    "    temperature=0.0,\n",
    ")\n",
    "\n",
    "chat = client.chats.create(model='gemini-2.0-flash')\n",
    "\n",
    "response = chat.send_message(\n",
    "    message=\"What were the medal tallies, by top-10 countries, for the 2024 olympics?\",\n",
    "    config=config_with_search,\n",
    ")\n",
    "\n",
    "show_response(response)"
   ]
  },
  {
   "cell_type": "markdown",
   "metadata": {},
   "source": [
    "Continuing the chat, now ask the model to convert the data into a chart. The `code_execution` tool is able to generate code to draw charts, execute that code and return the image. You can see the executed code in the `executable_code` part of the response.\n",
    "\n",
    "Combining results from Google Search with tools like live plotting can enable very powerful use cases that require very little code to run."
   ]
  },
  {
   "cell_type": "code",
   "execution_count": 13,
   "metadata": {
    "execution": {
     "iopub.execute_input": "2025-04-03T09:16:21.794944Z",
     "iopub.status.busy": "2025-04-03T09:16:21.794559Z",
     "iopub.status.idle": "2025-04-03T09:16:27.771186Z",
     "shell.execute_reply": "2025-04-03T09:16:27.770137Z",
     "shell.execute_reply.started": "2025-04-03T09:16:21.794909Z"
    }
   },
   "outputs": [
    {
     "data": {
      "text/markdown": [
       "Okay, I can create a Seaborn chart visualizing the medal tally for the top 10 countries at the 2024 Paris Olympics. I'll use a stacked bar chart to represent the gold, silver, and bronze medals for each country.\n",
       "\n"
      ],
      "text/plain": [
       "<IPython.core.display.Markdown object>"
      ]
     },
     "metadata": {},
     "output_type": "display_data"
    },
    {
     "data": {
      "text/markdown": [
       "----"
      ],
      "text/plain": [
       "<IPython.core.display.Markdown object>"
      ]
     },
     "metadata": {},
     "output_type": "display_data"
    },
    {
     "name": "stdout",
     "output_type": "stream",
     "text": [
      "{'executable_code': {'code': \"import pandas as pd\\nimport matplotlib.pyplot as plt\\nimport seaborn as sns\\n\\n# Data from the previous response\\ndata = {\\n    'Country': ['United States of America', 'People\\\\'s Republic of China', 'Japan', 'Australia', 'France', 'Netherlands', 'Great Britain', 'Republic of Korea', 'Italy', 'Germany'],\\n    'Gold': [40, 40, 20, 18, 16, 15, 14, 13, 12, 12],\\n    'Silver': [44, 27, 12, 19, 26, 7, 22, 9, 13, 13],\\n    'Bronze': [42, 24, 13, 16, 22, 12, 29, 10, 15, 8]\\n}\\n\\ndf = pd.DataFrame(data)\\n\\n# Melt the dataframe to make it suitable for a stacked bar chart\\ndf_melted = df.melt(id_vars='Country', var_name='Medal', value_name='Count')\\n\\n# Create the stacked bar chart\\nplt.figure(figsize=(12, 8))\\nsns.barplot(x='Country', y='Count', hue='Medal', data=df_melted, palette=['#FFD700', '#C0C0C0', '#CD7F32']) # Gold, Silver, Bronze colors\\nplt.title('2024 Olympics Medal Tally (Top 10 Countries)')\\nplt.xlabel('Country')\\nplt.ylabel('Number of Medals')\\nplt.xticks(rotation=45, ha='right')\\nplt.tight_layout()\\nplt.show()\\n\", 'language': 'PYTHON'}}\n"
     ]
    },
    {
     "data": {
      "text/markdown": [
       "----"
      ],
      "text/plain": [
       "<IPython.core.display.Markdown object>"
      ]
     },
     "metadata": {},
     "output_type": "display_data"
    },
    {
     "data": {
      "image/png": "[encoded data removed]",
      "text/plain": [
       "<IPython.core.display.Image object>"
      ]
     },
     "metadata": {},
     "output_type": "display_data"
    },
    {
     "data": {
      "text/markdown": [
       "----"
      ],
      "text/plain": [
       "<IPython.core.display.Markdown object>"
      ]
     },
     "metadata": {},
     "output_type": "display_data"
    },
    {
     "data": {
      "text/markdown": [
       "The chart is a grouped bar chart, not a stacked bar chart as I had intended. This makes it a little harder to directly compare the total number of medals for each country at a glance, but it does clearly show the breakdown of each type of medal.\n",
       "\n",
       "Is there anything else I can help you with regarding this data or chart? For example, I could try to generate a stacked bar chart instead, or calculate the total medals and display them on the chart.\n"
      ],
      "text/plain": [
       "<IPython.core.display.Markdown object>"
      ]
     },
     "metadata": {},
     "output_type": "display_data"
    },
    {
     "data": {
      "text/markdown": [
       "----"
      ],
      "text/plain": [
       "<IPython.core.display.Markdown object>"
      ]
     },
     "metadata": {},
     "output_type": "display_data"
    }
   ],
   "source": [
    "config_with_code = types.GenerateContentConfig(\n",
    "    tools=[types.Tool(code_execution=types.ToolCodeExecution())],\n",
    "    temperature=0.0,\n",
    ")\n",
    "\n",
    "response = chat.send_message(\n",
    "    message=\"Now plot this as a seaborn chart. Break out the medals too.\",\n",
    "    config=config_with_code,\n",
    ")\n",
    "\n",
    "show_response(response)"
   ]
  },
  {
   "cell_type": "markdown",
   "metadata": {
    "id": "Cp7gvdM-zOf0"
   },
   "source": [
    "## Further reading\n",
    "\n",
    "When using search grounding, there are some specific requirements that you must follow, including when and how to show search suggestions, and how to use the grounding links.  Be sure to read and follow the details in the [search grounding capability guide](https://ai.google.dev/gemini-api/docs/grounding) and the [search suggestions guide](https://ai.google.dev/gemini-api/docs/grounding/search-suggestions).\n",
    "\n",
    "Also check out some more compelling examples of using search grounding with the Live API in the [cookbook](https://github.com/google-gemini/cookbook/), like [this example that uses Google Maps to plot Search results on a map](https://github.com/google-gemini/cookbook/blob/main/examples/LiveAPI_plotting_and_mapping.ipynb) in an audio conversation, or [this example](https://github.com/google-gemini/cookbook/blob/main/examples/Search_grounding_for_research_report.ipynb) that builds a comprehensive research report.\n",
    "\n",
    "*- [Mark McD](https://linktr.ee/markmcd)*"
   ]
  }
 ],
 "metadata": {
  "colab": {
   "name": "day-4-google-search-grounding.ipynb",
   "toc_visible": true
  },
  "kaggle": {
   "accelerator": "none",
   "dataSources": [],
   "dockerImageVersionId": 30786,
   "isGpuEnabled": false,
   "isInternetEnabled": true,
   "language": "python",
   "sourceType": "notebook"
  },
  "kernelspec": {
   "display_name": "Python 3 (ipykernel)",
   "language": "python",
   "name": "python3"
  },
  "language_info": {
   "codemirror_mode": {
    "name": "ipython",
    "version": 3
   },
   "file_extension": ".py",
   "mimetype": "text/x-python",
   "name": "python",
   "nbconvert_exporter": "python",
   "pygments_lexer": "ipython3",
   "version": "3.12.3"
  }
 },
 "nbformat": 4,
 "nbformat_minor": 4
}
