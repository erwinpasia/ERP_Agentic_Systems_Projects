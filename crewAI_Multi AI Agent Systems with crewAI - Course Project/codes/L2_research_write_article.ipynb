{
 "cells": [
  {
   "cell_type": "markdown",
   "metadata": {},
   "source": [
    "You can download the `requirements.txt` for this course from the workspace of this lab. `File --> Open...`"
   ]
  },
  {
   "cell_type": "markdown",
   "metadata": {},
   "source": [
    "# L2: Create Agents to Research and Write an Article\n",
    "\n",
    "In this lesson, you will be introduced to the foundational concepts of multi-agent systems and get an overview of the crewAI framework."
   ]
  },
  {
   "cell_type": "markdown",
   "metadata": {},
   "source": [
    "The libraries are already installed in the classroom. If you're running this notebook on your own machine, you can install the following:\n",
    "```Python\n",
    "!pip install crewai==0.28.8 crewai_tools==0.1.6 langchain_community==0.0.29\n",
    "```"
   ]
  },
  {
   "cell_type": "code",
   "execution_count": 1,
   "metadata": {
    "height": 64
   },
   "outputs": [],
   "source": [
    "# Warning control\n",
    "import warnings\n",
    "warnings.filterwarnings('ignore')"
   ]
  },
  {
   "cell_type": "markdown",
   "metadata": {},
   "source": [
    "- Import from the crewAI libray."
   ]
  },
  {
   "cell_type": "code",
   "execution_count": 2,
   "metadata": {
    "height": 30
   },
   "outputs": [],
   "source": [
    "from crewai import Agent, Task, Crew"
   ]
  },
  {
   "cell_type": "markdown",
   "metadata": {},
   "source": [
    "- As a LLM for your agents, you'll be using OpenAI's `gpt-3.5-turbo`.\n",
    "\n",
    "**Optional Note:** crewAI also allow other popular models to be used as a LLM for your Agents. You can see some of the examples at the [bottom of the notebook](#1)."
   ]
  },
  {
   "cell_type": "code",
   "execution_count": 3,
   "metadata": {
    "height": 98
   },
   "outputs": [],
   "source": [
    "import os\n",
    "from utils import get_openai_api_key\n",
    "\n",
    "openai_api_key = get_openai_api_key()\n",
    "os.environ[\"OPENAI_MODEL_NAME\"] = 'gpt-3.5-turbo'"
   ]
  },
  {
   "cell_type": "markdown",
   "metadata": {},
   "source": [
    "## Creating Agents\n",
    "\n",
    "- Define your Agents, and provide them a `role`, `goal` and `backstory`.\n",
    "- It has been seen that LLMs perform better when they are role playing."
   ]
  },
  {
   "cell_type": "markdown",
   "metadata": {},
   "source": [
    "### Agent: Planner\n",
    "\n",
    "**Note**: The benefit of using _multiple strings_ :\n",
    "```Python\n",
    "varname = \"line 1 of text\"\n",
    "          \"line 2 of text\"\n",
    "```\n",
    "\n",
    "versus the _triple quote docstring_:\n",
    "```Python\n",
    "varname = \"\"\"line 1 of text\n",
    "             line 2 of text\n",
    "          \"\"\"\n",
    "```\n",
    "is that it can avoid adding those whitespaces and newline characters, making it better formatted to be passed to the LLM."
   ]
  },
  {
   "cell_type": "code",
   "execution_count": 4,
   "metadata": {
    "height": 234
   },
   "outputs": [],
   "source": [
    "planner = Agent(\n",
    "    role=\"Content Planner\",\n",
    "    goal=\"Plan engaging and factually accurate content on {topic}\",\n",
    "    backstory=\"You're working on planning a blog article \"\n",
    "              \"about the topic: {topic}.\"\n",
    "              \"You collect information that helps the \"\n",
    "              \"audience learn something \"\n",
    "              \"and make informed decisions. \"\n",
    "              \"Your work is the basis for \"\n",
    "              \"the Content Writer to write an article on this topic.\",\n",
    "    allow_delegation=False,\n",
    "\tverbose=True\n",
    ")"
   ]
  },
  {
   "cell_type": "markdown",
   "metadata": {},
   "source": [
    "### Agent: Writer"
   ]
  },
  {
   "cell_type": "code",
   "execution_count": 5,
   "metadata": {
    "height": 370
   },
   "outputs": [],
   "source": [
    "writer = Agent(\n",
    "    role=\"Content Writer\",\n",
    "    goal=\"Write insightful and factually accurate \"\n",
    "         \"opinion piece about the topic: {topic}\",\n",
    "    backstory=\"You're working on a writing \"\n",
    "              \"a new opinion piece about the topic: {topic}. \"\n",
    "              \"You base your writing on the work of \"\n",
    "              \"the Content Planner, who provides an outline \"\n",
    "              \"and relevant context about the topic. \"\n",
    "              \"You follow the main objectives and \"\n",
    "              \"direction of the outline, \"\n",
    "              \"as provide by the Content Planner. \"\n",
    "              \"You also provide objective and impartial insights \"\n",
    "              \"and back them up with information \"\n",
    "              \"provide by the Content Planner. \"\n",
    "              \"You acknowledge in your opinion piece \"\n",
    "              \"when your statements are opinions \"\n",
    "              \"as opposed to objective statements.\",\n",
    "    allow_delegation=False,\n",
    "    verbose=True\n",
    ")"
   ]
  },
  {
   "cell_type": "markdown",
   "metadata": {},
   "source": [
    "### Agent: Editor"
   ]
  },
  {
   "cell_type": "code",
   "execution_count": 6,
   "metadata": {
    "height": 268
   },
   "outputs": [],
   "source": [
    "editor = Agent(\n",
    "    role=\"Editor\",\n",
    "    goal=\"Edit a given blog post to align with \"\n",
    "         \"the writing style of the organization. \",\n",
    "    backstory=\"You are an editor who receives a blog post \"\n",
    "              \"from the Content Writer. \"\n",
    "              \"Your goal is to review the blog post \"\n",
    "              \"to ensure that it follows journalistic best practices,\"\n",
    "              \"provides balanced viewpoints \"\n",
    "              \"when providing opinions or assertions, \"\n",
    "              \"and also avoids major controversial topics \"\n",
    "              \"or opinions when possible.\",\n",
    "    allow_delegation=False,\n",
    "    verbose=True\n",
    ")"
   ]
  },
  {
   "cell_type": "markdown",
   "metadata": {},
   "source": [
    "## Creating Tasks\n",
    "\n",
    "- Define your Tasks, and provide them a `description`, `expected_output` and `agent`."
   ]
  },
  {
   "cell_type": "markdown",
   "metadata": {},
   "source": [
    "### Task: Plan"
   ]
  },
  {
   "cell_type": "code",
   "execution_count": 7,
   "metadata": {
    "height": 268
   },
   "outputs": [],
   "source": [
    "plan = Task(\n",
    "    description=(\n",
    "        \"1. Prioritize the latest trends, key players, \"\n",
    "            \"and noteworthy news on {topic}.\\n\"\n",
    "        \"2. Identify the target audience, considering \"\n",
    "            \"their interests and pain points.\\n\"\n",
    "        \"3. Develop a detailed content outline including \"\n",
    "            \"an introduction, key points, and a call to action.\\n\"\n",
    "        \"4. Include SEO keywords and relevant data or sources.\"\n",
    "    ),\n",
    "    expected_output=\"A comprehensive content plan document \"\n",
    "        \"with an outline, audience analysis, \"\n",
    "        \"SEO keywords, and resources.\",\n",
    "    agent=planner,\n",
    ")"
   ]
  },
  {
   "cell_type": "markdown",
   "metadata": {},
   "source": [
    "### Task: Write"
   ]
  },
  {
   "cell_type": "code",
   "execution_count": 8,
   "metadata": {
    "height": 319
   },
   "outputs": [],
   "source": [
    "write = Task(\n",
    "    description=(\n",
    "        \"1. Use the content plan to craft a compelling \"\n",
    "            \"blog post on {topic}.\\n\"\n",
    "        \"2. Incorporate SEO keywords naturally.\\n\"\n",
    "\t\t\"3. Sections/Subtitles are properly named \"\n",
    "            \"in an engaging manner.\\n\"\n",
    "        \"4. Ensure the post is structured with an \"\n",
    "            \"engaging introduction, insightful body, \"\n",
    "            \"and a summarizing conclusion.\\n\"\n",
    "        \"5. Proofread for grammatical errors and \"\n",
    "            \"alignment with the brand's voice.\\n\"\n",
    "    ),\n",
    "    expected_output=\"A well-written blog post \"\n",
    "        \"in markdown format, ready for publication, \"\n",
    "        \"each section should have 2 or 3 paragraphs.\",\n",
    "    agent=writer,\n",
    ")"
   ]
  },
  {
   "cell_type": "markdown",
   "metadata": {},
   "source": [
    "### Task: Edit"
   ]
  },
  {
   "cell_type": "code",
   "execution_count": 9,
   "metadata": {
    "height": 166
   },
   "outputs": [],
   "source": [
    "edit = Task(\n",
    "    description=(\"Proofread the given blog post for \"\n",
    "                 \"grammatical errors and \"\n",
    "                 \"alignment with the brand's voice.\"),\n",
    "    expected_output=\"A well-written blog post in markdown format, \"\n",
    "                    \"ready for publication, \"\n",
    "                    \"each section should have 2 or 3 paragraphs.\",\n",
    "    agent=editor\n",
    ")"
   ]
  },
  {
   "cell_type": "markdown",
   "metadata": {},
   "source": [
    "## Creating the Crew\n",
    "\n",
    "- Create your crew of Agents\n",
    "- Pass the tasks to be performed by those agents.\n",
    "    - **Note**: *For this simple example*, the tasks will be performed sequentially (i.e they are dependent on each other), so the _order_ of the task in the list _matters_.\n",
    "- `verbose=2` allows you to see all the logs of the execution. "
   ]
  },
  {
   "cell_type": "code",
   "execution_count": 10,
   "metadata": {
    "height": 98
   },
   "outputs": [],
   "source": [
    "crew = Crew(\n",
    "    agents=[planner, writer, editor],\n",
    "    tasks=[plan, write, edit],\n",
    "    verbose=2\n",
    ")"
   ]
  },
  {
   "cell_type": "markdown",
   "metadata": {},
   "source": [
    "## Running the Crew"
   ]
  },
  {
   "cell_type": "markdown",
   "metadata": {},
   "source": [
    "**Note**: LLMs can provide different outputs for they same input, so what you get might be different than what you see in the video."
   ]
  },
  {
   "cell_type": "code",
   "execution_count": 11,
   "metadata": {
    "height": 30
   },
   "outputs": [
    {
     "name": "stdout",
     "output_type": "stream",
     "text": [
      "\u001b[1m\u001b[95m [DEBUG]: == Working Agent: Content Planner\u001b[00m\n",
      "\u001b[1m\u001b[95m [INFO]: == Starting Task: 1. Prioritize the latest trends, key players, and noteworthy news on Artificial Intelligence.\n",
      "2. Identify the target audience, considering their interests and pain points.\n",
      "3. Develop a detailed content outline including an introduction, key points, and a call to action.\n",
      "4. Include SEO keywords and relevant data or sources.\u001b[00m\n",
      "\n",
      "\n",
      "\u001b[1m> Entering new CrewAgentExecutor chain...\u001b[0m\n",
      "\u001b[32;1m\u001b[1;3mI now can give a great answer\n",
      "\n",
      "Final Answer:\n",
      "\n",
      "Title: Unveiling the Latest Trends and Key Players in Artificial Intelligence\n",
      "\n",
      "Introduction:\n",
      "- Brief overview of the rapid advancements in artificial intelligence (AI)\n",
      "- Importance of staying updated on the latest trends in AI\n",
      "\n",
      "Key Points:\n",
      "1. Latest Trends in Artificial Intelligence:\n",
      "- Breakthroughs in deep learning and neural networks\n",
      "- Expansion of AI applications in various industries such as healthcare, finance, and retail\n",
      "- Integration of AI with Internet of Things (IoT) technology\n",
      "- Rise of explainable AI for increased transparency and accountability\n",
      "\n",
      "2. Key Players in Artificial Intelligence:\n",
      "- Google's DeepMind leading in AI research and development\n",
      "- Microsoft's Azure AI platform for business solutions\n",
      "- IBM Watson offering cognitive computing services\n",
      "- Startups like OpenAI and Element AI making significant contributions\n",
      "\n",
      "3. Noteworthy News in Artificial Intelligence:\n",
      "- Ethical concerns surrounding AI development and deployment\n",
      "- Regulatory efforts to govern AI technologies\n",
      "- Collaborations between tech giants and research institutions for AI innovation\n",
      "\n",
      "Audience Analysis:\n",
      "Target Audience: Tech enthusiasts, industry professionals, entrepreneurs, and students interested in AI\n",
      "Interests: Latest technological advancements, AI applications across industries, ethical implications of AI\n",
      "Pain Points: Keeping up with rapidly evolving AI landscape, understanding complex AI concepts, accessing reliable sources for AI news\n",
      "\n",
      "Content Outline:\n",
      "- Introduction to the importance of staying updated on AI trends\n",
      "- Latest Trends in Artificial Intelligence\n",
      "- Key Players in Artificial Intelligence\n",
      "- Noteworthy News in Artificial Intelligence\n",
      "- Audience-specific insights and analysis\n",
      "- Call to Action encouraging further exploration of AI resources and communities\n",
      "\n",
      "SEO Keywords: artificial intelligence trends, AI industry players, latest AI news, explainable AI, AI applications, AI ethics\n",
      "\n",
      "Resources:\n",
      "1. \"The State of AI in 2021\" report by Forbes\n",
      "2. \"Deep Learning\" course on Coursera by Andrew Ng\n",
      "3. \"AI Ethics: Global Perspectives\" book by Markus Dubber and Frank Pasquale\n",
      "\n",
      "By following this comprehensive content plan, the blog article on Artificial Intelligence will engage the target audience with informative insights and relevant resources, helping them make informed decisions in the ever-evolving world of AI.\u001b[0m\n",
      "\n",
      "\u001b[1m> Finished chain.\u001b[0m\n",
      "\u001b[1m\u001b[92m [DEBUG]: == [Content Planner] Task output: Title: Unveiling the Latest Trends and Key Players in Artificial Intelligence\n",
      "\n",
      "Introduction:\n",
      "- Brief overview of the rapid advancements in artificial intelligence (AI)\n",
      "- Importance of staying updated on the latest trends in AI\n",
      "\n",
      "Key Points:\n",
      "1. Latest Trends in Artificial Intelligence:\n",
      "- Breakthroughs in deep learning and neural networks\n",
      "- Expansion of AI applications in various industries such as healthcare, finance, and retail\n",
      "- Integration of AI with Internet of Things (IoT) technology\n",
      "- Rise of explainable AI for increased transparency and accountability\n",
      "\n",
      "2. Key Players in Artificial Intelligence:\n",
      "- Google's DeepMind leading in AI research and development\n",
      "- Microsoft's Azure AI platform for business solutions\n",
      "- IBM Watson offering cognitive computing services\n",
      "- Startups like OpenAI and Element AI making significant contributions\n",
      "\n",
      "3. Noteworthy News in Artificial Intelligence:\n",
      "- Ethical concerns surrounding AI development and deployment\n",
      "- Regulatory efforts to govern AI technologies\n",
      "- Collaborations between tech giants and research institutions for AI innovation\n",
      "\n",
      "Audience Analysis:\n",
      "Target Audience: Tech enthusiasts, industry professionals, entrepreneurs, and students interested in AI\n",
      "Interests: Latest technological advancements, AI applications across industries, ethical implications of AI\n",
      "Pain Points: Keeping up with rapidly evolving AI landscape, understanding complex AI concepts, accessing reliable sources for AI news\n",
      "\n",
      "Content Outline:\n",
      "- Introduction to the importance of staying updated on AI trends\n",
      "- Latest Trends in Artificial Intelligence\n",
      "- Key Players in Artificial Intelligence\n",
      "- Noteworthy News in Artificial Intelligence\n",
      "- Audience-specific insights and analysis\n",
      "- Call to Action encouraging further exploration of AI resources and communities\n",
      "\n",
      "SEO Keywords: artificial intelligence trends, AI industry players, latest AI news, explainable AI, AI applications, AI ethics\n",
      "\n",
      "Resources:\n",
      "1. \"The State of AI in 2021\" report by Forbes\n",
      "2. \"Deep Learning\" course on Coursera by Andrew Ng\n",
      "3. \"AI Ethics: Global Perspectives\" book by Markus Dubber and Frank Pasquale\n",
      "\n",
      "By following this comprehensive content plan, the blog article on Artificial Intelligence will engage the target audience with informative insights and relevant resources, helping them make informed decisions in the ever-evolving world of AI.\n",
      "\n",
      "\u001b[00m\n",
      "\u001b[1m\u001b[95m [DEBUG]: == Working Agent: Content Writer\u001b[00m\n",
      "\u001b[1m\u001b[95m [INFO]: == Starting Task: 1. Use the content plan to craft a compelling blog post on Artificial Intelligence.\n",
      "2. Incorporate SEO keywords naturally.\n",
      "3. Sections/Subtitles are properly named in an engaging manner.\n",
      "4. Ensure the post is structured with an engaging introduction, insightful body, and a summarizing conclusion.\n",
      "5. Proofread for grammatical errors and alignment with the brand's voice.\n",
      "\u001b[00m\n",
      "\n",
      "\n",
      "\u001b[1m> Entering new CrewAgentExecutor chain...\u001b[0m\n",
      "\u001b[32;1m\u001b[1;3mI now can give a great answer\n",
      "\n",
      "Final Answer:\n",
      "\n",
      "# Unveiling the Latest Trends and Key Players in Artificial Intelligence\n",
      "\n",
      "## Introduction\n",
      "Artificial intelligence (AI) has been rapidly evolving in recent years, with groundbreaking advancements in deep learning and neural networks. It's crucial for tech enthusiasts, industry professionals, entrepreneurs, and students interested in AI to stay updated on the latest trends in this dynamic field. By understanding the latest developments in AI, individuals can harness the power of this technology to drive innovation and create impactful solutions.\n",
      "\n",
      "## Latest Trends in Artificial Intelligence\n",
      "One of the most significant trends in AI is the expansion of its applications across various industries such as healthcare, finance, and retail. AI is revolutionizing these sectors by enabling predictive analytics, personalized recommendations, and automation of repetitive tasks. Additionally, the integration of AI with Internet of Things (IoT) technology is opening up new possibilities for interconnected smart devices and systems. Another notable trend is the rise of explainable AI, which focuses on enhancing transparency and accountability in AI decision-making processes.\n",
      "\n",
      "## Key Players in Artificial Intelligence\n",
      "Several key players are leading the way in AI research and development. Google's DeepMind has been at the forefront of AI innovation, pushing boundaries in machine learning and artificial general intelligence. Microsoft's Azure AI platform offers robust business solutions, empowering organizations to leverage AI for improved efficiency and productivity. IBM Watson is known for its cognitive computing services, providing advanced AI capabilities for data analysis and natural language processing. Moreover, startups like OpenAI and Element AI are making significant contributions to the AI landscape, driving innovation and pushing the boundaries of what is possible with artificial intelligence.\n",
      "\n",
      "## Noteworthy News in Artificial Intelligence\n",
      "Alongside the rapid advancements in AI, there are ethical concerns surrounding its development and deployment. As AI technologies become more pervasive, there is a growing need for regulatory efforts to govern their use and mitigate potential risks. Collaborations between tech giants and research institutions are also driving AI innovation, fostering a collaborative ecosystem for the development of cutting-edge AI solutions.\n",
      "\n",
      "In conclusion, staying informed about the latest trends and key players in artificial intelligence is essential for anyone looking to navigate the rapidly evolving landscape of AI. By exploring the latest advancements, understanding the key players driving innovation, and staying abreast of noteworthy news in AI, individuals can harness the power of this transformative technology to drive positive change in their respective fields. Let's continue to explore the exciting world of artificial intelligence and unlock its full potential for the benefit of society.\u001b[0m\n",
      "\n",
      "\u001b[1m> Finished chain.\u001b[0m\n",
      "\u001b[1m\u001b[92m [DEBUG]: == [Content Writer] Task output: # Unveiling the Latest Trends and Key Players in Artificial Intelligence\n",
      "\n",
      "## Introduction\n",
      "Artificial intelligence (AI) has been rapidly evolving in recent years, with groundbreaking advancements in deep learning and neural networks. It's crucial for tech enthusiasts, industry professionals, entrepreneurs, and students interested in AI to stay updated on the latest trends in this dynamic field. By understanding the latest developments in AI, individuals can harness the power of this technology to drive innovation and create impactful solutions.\n",
      "\n",
      "## Latest Trends in Artificial Intelligence\n",
      "One of the most significant trends in AI is the expansion of its applications across various industries such as healthcare, finance, and retail. AI is revolutionizing these sectors by enabling predictive analytics, personalized recommendations, and automation of repetitive tasks. Additionally, the integration of AI with Internet of Things (IoT) technology is opening up new possibilities for interconnected smart devices and systems. Another notable trend is the rise of explainable AI, which focuses on enhancing transparency and accountability in AI decision-making processes.\n",
      "\n",
      "## Key Players in Artificial Intelligence\n",
      "Several key players are leading the way in AI research and development. Google's DeepMind has been at the forefront of AI innovation, pushing boundaries in machine learning and artificial general intelligence. Microsoft's Azure AI platform offers robust business solutions, empowering organizations to leverage AI for improved efficiency and productivity. IBM Watson is known for its cognitive computing services, providing advanced AI capabilities for data analysis and natural language processing. Moreover, startups like OpenAI and Element AI are making significant contributions to the AI landscape, driving innovation and pushing the boundaries of what is possible with artificial intelligence.\n",
      "\n",
      "## Noteworthy News in Artificial Intelligence\n",
      "Alongside the rapid advancements in AI, there are ethical concerns surrounding its development and deployment. As AI technologies become more pervasive, there is a growing need for regulatory efforts to govern their use and mitigate potential risks. Collaborations between tech giants and research institutions are also driving AI innovation, fostering a collaborative ecosystem for the development of cutting-edge AI solutions.\n",
      "\n",
      "In conclusion, staying informed about the latest trends and key players in artificial intelligence is essential for anyone looking to navigate the rapidly evolving landscape of AI. By exploring the latest advancements, understanding the key players driving innovation, and staying abreast of noteworthy news in AI, individuals can harness the power of this transformative technology to drive positive change in their respective fields. Let's continue to explore the exciting world of artificial intelligence and unlock its full potential for the benefit of society.\n",
      "\n",
      "\u001b[00m\n",
      "\u001b[1m\u001b[95m [DEBUG]: == Working Agent: Editor\u001b[00m\n",
      "\u001b[1m\u001b[95m [INFO]: == Starting Task: Proofread the given blog post for grammatical errors and alignment with the brand's voice.\u001b[00m\n",
      "\n",
      "\n",
      "\u001b[1m> Entering new CrewAgentExecutor chain...\u001b[0m\n"
     ]
    },
    {
     "name": "stdout",
     "output_type": "stream",
     "text": [
      "\u001b[32;1m\u001b[1;3mI now can give a great answer\n",
      "\n",
      "Final Answer: \n",
      "\n",
      "# Unveiling the Latest Trends and Key Players in Artificial Intelligence\n",
      "\n",
      "## Introduction\n",
      "Artificial intelligence (AI) has seen remarkable advancements in recent years, particularly in deep learning and neural networks. Staying informed about the latest trends in AI is essential for tech enthusiasts, industry professionals, entrepreneurs, and students alike. By keeping up with the dynamic field of AI, individuals can harness its potential to drive innovation and create impactful solutions.\n",
      "\n",
      "## Latest Trends in Artificial Intelligence\n",
      "AI's applications are expanding rapidly across various industries like healthcare, finance, and retail. This expansion is revolutionizing sectors by enabling predictive analytics, personalized recommendations, and automating repetitive tasks. The integration of AI with Internet of Things (IoT) technology is also creating new opportunities for interconnected smart devices and systems. Another important trend is the emergence of explainable AI, which aims to improve transparency and accountability in AI decision-making processes.\n",
      "\n",
      "## Key Players in Artificial Intelligence\n",
      "Leading the charge in AI research and development are key players such as Google's DeepMind, known for its groundbreaking work in machine learning and artificial general intelligence. Microsoft's Azure AI platform offers robust business solutions, empowering organizations to enhance efficiency and productivity with AI. IBM Watson's cognitive computing services provide advanced AI capabilities for data analysis and natural language processing. Additionally, startups like OpenAI and Element AI are driving innovation and expanding the possibilities of artificial intelligence.\n",
      "\n",
      "## Noteworthy News in Artificial Intelligence\n",
      "While AI continues to advance rapidly, ethical concerns surrounding its development and deployment are becoming more prominent. As AI technologies become more widespread, there is a growing need for regulatory efforts to govern their use and address potential risks. Collaborations between tech giants and research institutions are also driving AI innovation, creating a collaborative ecosystem for cutting-edge AI solutions.\n",
      "\n",
      "In conclusion, staying informed about the latest trends and key players in artificial intelligence is crucial for navigating the evolving landscape of AI. By exploring the latest advancements, understanding the key players shaping innovation, and staying informed about noteworthy news in AI, individuals can leverage this transformative technology for positive change in their respective fields. Let's continue to delve into the exciting world of artificial intelligence and unlock its full potential for the benefit of society.\u001b[0m\n",
      "\n",
      "\u001b[1m> Finished chain.\u001b[0m\n",
      "\u001b[1m\u001b[92m [DEBUG]: == [Editor] Task output: # Unveiling the Latest Trends and Key Players in Artificial Intelligence\n",
      "\n",
      "## Introduction\n",
      "Artificial intelligence (AI) has seen remarkable advancements in recent years, particularly in deep learning and neural networks. Staying informed about the latest trends in AI is essential for tech enthusiasts, industry professionals, entrepreneurs, and students alike. By keeping up with the dynamic field of AI, individuals can harness its potential to drive innovation and create impactful solutions.\n",
      "\n",
      "## Latest Trends in Artificial Intelligence\n",
      "AI's applications are expanding rapidly across various industries like healthcare, finance, and retail. This expansion is revolutionizing sectors by enabling predictive analytics, personalized recommendations, and automating repetitive tasks. The integration of AI with Internet of Things (IoT) technology is also creating new opportunities for interconnected smart devices and systems. Another important trend is the emergence of explainable AI, which aims to improve transparency and accountability in AI decision-making processes.\n",
      "\n",
      "## Key Players in Artificial Intelligence\n",
      "Leading the charge in AI research and development are key players such as Google's DeepMind, known for its groundbreaking work in machine learning and artificial general intelligence. Microsoft's Azure AI platform offers robust business solutions, empowering organizations to enhance efficiency and productivity with AI. IBM Watson's cognitive computing services provide advanced AI capabilities for data analysis and natural language processing. Additionally, startups like OpenAI and Element AI are driving innovation and expanding the possibilities of artificial intelligence.\n",
      "\n",
      "## Noteworthy News in Artificial Intelligence\n",
      "While AI continues to advance rapidly, ethical concerns surrounding its development and deployment are becoming more prominent. As AI technologies become more widespread, there is a growing need for regulatory efforts to govern their use and address potential risks. Collaborations between tech giants and research institutions are also driving AI innovation, creating a collaborative ecosystem for cutting-edge AI solutions.\n",
      "\n",
      "In conclusion, staying informed about the latest trends and key players in artificial intelligence is crucial for navigating the evolving landscape of AI. By exploring the latest advancements, understanding the key players shaping innovation, and staying informed about noteworthy news in AI, individuals can leverage this transformative technology for positive change in their respective fields. Let's continue to delve into the exciting world of artificial intelligence and unlock its full potential for the benefit of society.\n",
      "\n",
      "\u001b[00m\n"
     ]
    }
   ],
   "source": [
    "result = crew.kickoff(inputs={\"topic\": \"Artificial Intelligence\"})"
   ]
  },
  {
   "cell_type": "markdown",
   "metadata": {},
   "source": [
    "- Display the results of your execution as markdown in the notebook."
   ]
  },
  {
   "cell_type": "code",
   "execution_count": 12,
   "metadata": {
    "height": 47
   },
   "outputs": [
    {
     "data": {
      "text/markdown": [
       "# Unveiling the Latest Trends and Key Players in Artificial Intelligence\n",
       "\n",
       "## Introduction\n",
       "Artificial intelligence (AI) has seen remarkable advancements in recent years, particularly in deep learning and neural networks. Staying informed about the latest trends in AI is essential for tech enthusiasts, industry professionals, entrepreneurs, and students alike. By keeping up with the dynamic field of AI, individuals can harness its potential to drive innovation and create impactful solutions.\n",
       "\n",
       "## Latest Trends in Artificial Intelligence\n",
       "AI's applications are expanding rapidly across various industries like healthcare, finance, and retail. This expansion is revolutionizing sectors by enabling predictive analytics, personalized recommendations, and automating repetitive tasks. The integration of AI with Internet of Things (IoT) technology is also creating new opportunities for interconnected smart devices and systems. Another important trend is the emergence of explainable AI, which aims to improve transparency and accountability in AI decision-making processes.\n",
       "\n",
       "## Key Players in Artificial Intelligence\n",
       "Leading the charge in AI research and development are key players such as Google's DeepMind, known for its groundbreaking work in machine learning and artificial general intelligence. Microsoft's Azure AI platform offers robust business solutions, empowering organizations to enhance efficiency and productivity with AI. IBM Watson's cognitive computing services provide advanced AI capabilities for data analysis and natural language processing. Additionally, startups like OpenAI and Element AI are driving innovation and expanding the possibilities of artificial intelligence.\n",
       "\n",
       "## Noteworthy News in Artificial Intelligence\n",
       "While AI continues to advance rapidly, ethical concerns surrounding its development and deployment are becoming more prominent. As AI technologies become more widespread, there is a growing need for regulatory efforts to govern their use and address potential risks. Collaborations between tech giants and research institutions are also driving AI innovation, creating a collaborative ecosystem for cutting-edge AI solutions.\n",
       "\n",
       "In conclusion, staying informed about the latest trends and key players in artificial intelligence is crucial for navigating the evolving landscape of AI. By exploring the latest advancements, understanding the key players shaping innovation, and staying informed about noteworthy news in AI, individuals can leverage this transformative technology for positive change in their respective fields. Let's continue to delve into the exciting world of artificial intelligence and unlock its full potential for the benefit of society."
      ],
      "text/plain": [
       "<IPython.core.display.Markdown object>"
      ]
     },
     "execution_count": 12,
     "metadata": {},
     "output_type": "execute_result"
    }
   ],
   "source": [
    "from IPython.display import Markdown\n",
    "Markdown(result)"
   ]
  },
  {
   "cell_type": "markdown",
   "metadata": {},
   "source": [
    "## Try it Yourself\n",
    "\n",
    "- Pass in a topic of your choice and see what the agents come up with!"
   ]
  },
  {
   "cell_type": "code",
   "execution_count": 13,
   "metadata": {
    "height": 47
   },
   "outputs": [
    {
     "name": "stdout",
     "output_type": "stream",
     "text": [
      "\u001b[1m\u001b[95m [DEBUG]: == Working Agent: Content Planner\u001b[00m\n",
      "\u001b[1m\u001b[95m [INFO]: == Starting Task: 1. Prioritize the latest trends, key players, and noteworthy news on Embodied AI.\n",
      "2. Identify the target audience, considering their interests and pain points.\n",
      "3. Develop a detailed content outline including an introduction, key points, and a call to action.\n",
      "4. Include SEO keywords and relevant data or sources.\u001b[00m\n",
      "\n",
      "\n",
      "\u001b[1m> Entering new CrewAgentExecutor chain...\u001b[0m\n",
      "\u001b[32;1m\u001b[1;3mI now can give a great answer\n",
      "\n",
      "Final Answer: \n",
      "\n",
      "**Content Plan: Embodied AI**\n",
      "\n",
      "**Introduction:**\n",
      "- Brief explanation of Embodied AI and its significance in the field of artificial intelligence.\n",
      "- Mention of key players and recent trends in the industry.\n",
      "\n",
      "**Key Points:**\n",
      "1. **Latest Trends in Embodied AI:**\n",
      "   - Integration of sensory perception and motor control in AI systems.\n",
      "   - Advancements in robotics and virtual agents with physical bodies.\n",
      "   - Impact of Embodied AI on industries such as healthcare, manufacturing, and entertainment.\n",
      "\n",
      "2. **Key Players in Embodied AI:**\n",
      "   - Companies like Boston Dynamics, SoftBank Robotics, and Hanson Robotics leading the way in developing embodied AI technologies.\n",
      "   - Research institutions and universities contributing to the advancement of Embodied AI.\n",
      "\n",
      "3. **Noteworthy News on Embodied AI:**\n",
      "   - Recent breakthroughs in human-robot interaction and collaboration.\n",
      "   - Ethical considerations and challenges in the development of Embodied AI technologies.\n",
      "\n",
      "**Target Audience:**\n",
      "- Tech enthusiasts, researchers, industry professionals, and students interested in artificial intelligence and robotics.\n",
      "- Pain points include staying updated on the latest developments in AI, understanding the implications of Embodied AI on society, and seeking opportunities to learn more about this emerging field.\n",
      "\n",
      "**Content Outline:**\n",
      "1. Introduction to Embodied AI\n",
      "2. Latest Trends in Embodied AI\n",
      "3. Key Players in the Industry\n",
      "4. Noteworthy News and Developments\n",
      "5. Ethical Considerations and Future Implications\n",
      "6. Call to Action: Resources for further reading and learning about Embodied AI\n",
      "\n",
      "**SEO Keywords:**\n",
      "- Embodied AI, artificial intelligence with physical bodies, robotics, human-robot interaction, AI trends, key players in AI, AI news, ethical AI, future of AI.\n",
      "\n",
      "**Resources:**\n",
      "1. \"Embodied AI: A Brief Overview\" - Stanford University AI Lab\n",
      "2. \"The Next Frontier in AI: Embodied Intelligence\" - MIT Technology Review\n",
      "3. \"Robotics and AI: The Future of Human-Machine Collaboration\" - World Economic Forum\n",
      "\n",
      "By following this comprehensive content plan, the blog article on Embodied AI will engage the target audience with relevant information, insights on the latest trends, and valuable resources for further exploration of this exciting field.\u001b[0m\n",
      "\n",
      "\u001b[1m> Finished chain.\u001b[0m\n",
      "\u001b[1m\u001b[92m [DEBUG]: == [Content Planner] Task output: **Content Plan: Embodied AI**\n",
      "\n",
      "**Introduction:**\n",
      "- Brief explanation of Embodied AI and its significance in the field of artificial intelligence.\n",
      "- Mention of key players and recent trends in the industry.\n",
      "\n",
      "**Key Points:**\n",
      "1. **Latest Trends in Embodied AI:**\n",
      "   - Integration of sensory perception and motor control in AI systems.\n",
      "   - Advancements in robotics and virtual agents with physical bodies.\n",
      "   - Impact of Embodied AI on industries such as healthcare, manufacturing, and entertainment.\n",
      "\n",
      "2. **Key Players in Embodied AI:**\n",
      "   - Companies like Boston Dynamics, SoftBank Robotics, and Hanson Robotics leading the way in developing embodied AI technologies.\n",
      "   - Research institutions and universities contributing to the advancement of Embodied AI.\n",
      "\n",
      "3. **Noteworthy News on Embodied AI:**\n",
      "   - Recent breakthroughs in human-robot interaction and collaboration.\n",
      "   - Ethical considerations and challenges in the development of Embodied AI technologies.\n",
      "\n",
      "**Target Audience:**\n",
      "- Tech enthusiasts, researchers, industry professionals, and students interested in artificial intelligence and robotics.\n",
      "- Pain points include staying updated on the latest developments in AI, understanding the implications of Embodied AI on society, and seeking opportunities to learn more about this emerging field.\n",
      "\n",
      "**Content Outline:**\n",
      "1. Introduction to Embodied AI\n",
      "2. Latest Trends in Embodied AI\n",
      "3. Key Players in the Industry\n",
      "4. Noteworthy News and Developments\n",
      "5. Ethical Considerations and Future Implications\n",
      "6. Call to Action: Resources for further reading and learning about Embodied AI\n",
      "\n",
      "**SEO Keywords:**\n",
      "- Embodied AI, artificial intelligence with physical bodies, robotics, human-robot interaction, AI trends, key players in AI, AI news, ethical AI, future of AI.\n",
      "\n",
      "**Resources:**\n",
      "1. \"Embodied AI: A Brief Overview\" - Stanford University AI Lab\n",
      "2. \"The Next Frontier in AI: Embodied Intelligence\" - MIT Technology Review\n",
      "3. \"Robotics and AI: The Future of Human-Machine Collaboration\" - World Economic Forum\n",
      "\n",
      "By following this comprehensive content plan, the blog article on Embodied AI will engage the target audience with relevant information, insights on the latest trends, and valuable resources for further exploration of this exciting field.\n",
      "\n",
      "\u001b[00m\n",
      "\u001b[1m\u001b[95m [DEBUG]: == Working Agent: Content Writer\u001b[00m\n",
      "\u001b[1m\u001b[95m [INFO]: == Starting Task: 1. Use the content plan to craft a compelling blog post on Embodied AI.\n",
      "2. Incorporate SEO keywords naturally.\n",
      "3. Sections/Subtitles are properly named in an engaging manner.\n",
      "4. Ensure the post is structured with an engaging introduction, insightful body, and a summarizing conclusion.\n",
      "5. Proofread for grammatical errors and alignment with the brand's voice.\n",
      "\u001b[00m\n",
      "\n",
      "\n",
      "\u001b[1m> Entering new CrewAgentExecutor chain...\u001b[0m\n",
      "\u001b[32;1m\u001b[1;3mI now can give a great answer\n",
      "\n",
      "Final Answer:\n",
      "\n",
      "# Exploring the Future of Artificial Intelligence: The Rise of Embodied AI\n",
      "\n",
      "**Introduction**\n",
      "\n",
      "Artificial Intelligence (AI) has undergone remarkable advancements in recent years, with one of the most intriguing developments being the emergence of Embodied AI. This innovative approach integrates sensory perception and motor control into AI systems, allowing them to interact with the physical world in a more human-like manner. Key players in the industry, such as Boston Dynamics, SoftBank Robotics, and Hanson Robotics, have been at the forefront of developing technologies that bridge the gap between the virtual and physical realms. In this blog post, we delve into the latest trends, key players, noteworthy news, and ethical considerations surrounding Embodied AI.\n",
      "\n",
      "**Latest Trends in Embodied AI**\n",
      "\n",
      "The integration of sensory perception and motor control in AI systems has opened up new possibilities for the field. Advancements in robotics and virtual agents equipped with physical bodies have paved the way for applications in various industries, including healthcare, manufacturing, and entertainment. These technologies are not only enhancing efficiency and productivity but also transforming the way humans interact with machines. The impact of Embodied AI on society is profound, as we witness the blurring of boundaries between humans and machines.\n",
      "\n",
      "**Key Players in the Industry**\n",
      "\n",
      "Companies like Boston Dynamics, known for their groundbreaking work in robotics, and SoftBank Robotics, a pioneer in developing humanoid robots, are leading the charge in the realm of Embodied AI. Research institutions and universities are also playing a crucial role in pushing the boundaries of what is possible in this field. Their collaborative efforts are driving innovation and shaping the future of AI technologies. The expertise and resources invested by these key players are instrumental in driving the momentum of Embodied AI forward.\n",
      "\n",
      "**Noteworthy News and Developments**\n",
      "\n",
      "Recent breakthroughs in human-robot interaction and collaboration have captured the attention of the AI community. From robots assisting in surgical procedures to virtual agents enhancing customer service experiences, the potential applications of Embodied AI are vast. However, with these advancements come ethical considerations and challenges. As AI technologies become more integrated into our daily lives, questions surrounding privacy, security, and accountability must be addressed. It is essential to navigate these complexities thoughtfully and responsibly to ensure a future where AI benefits society as a whole.\n",
      "\n",
      "**Ethical Considerations and Future Implications**\n",
      "\n",
      "As we look towards the future of Embodied AI, it is crucial to consider the ethical implications of these technologies. Ensuring that AI systems are designed and implemented ethically is paramount to building trust and acceptance among users. The potential societal impact of Embodied AI is vast, from revolutionizing healthcare to transforming the way we work and play. By addressing ethical concerns and actively engaging in discussions on the future implications of AI, we can steer the development of Embodied AI towards a more inclusive and beneficial future for all.\n",
      "\n",
      "**Call to Action**\n",
      "\n",
      "For those interested in delving deeper into the world of Embodied AI, there are numerous resources available for further reading and learning. From academic papers to industry reports, there is a wealth of information waiting to be explored. Stay informed on the latest trends, engage in discussions on ethical AI practices, and be part of shaping the future of artificial intelligence. The journey towards a more embodied and intelligent AI future begins with each of us taking an active interest in this evolving field.\n",
      "\n",
      "In conclusion, the rise of Embodied AI represents a significant milestone in the evolution of artificial intelligence. By embracing the integration of physical bodies into AI systems, we are opening up new possibilities for human-machine interaction and collaboration. As we navigate the challenges and opportunities presented by Embodied AI, let us strive to build a future where AI technologies enhance our lives and empower us to create a more inclusive and sustainable world.\u001b[0m\n",
      "\n",
      "\u001b[1m> Finished chain.\u001b[0m\n",
      "\u001b[1m\u001b[92m [DEBUG]: == [Content Writer] Task output: # Exploring the Future of Artificial Intelligence: The Rise of Embodied AI\n",
      "\n",
      "**Introduction**\n",
      "\n",
      "Artificial Intelligence (AI) has undergone remarkable advancements in recent years, with one of the most intriguing developments being the emergence of Embodied AI. This innovative approach integrates sensory perception and motor control into AI systems, allowing them to interact with the physical world in a more human-like manner. Key players in the industry, such as Boston Dynamics, SoftBank Robotics, and Hanson Robotics, have been at the forefront of developing technologies that bridge the gap between the virtual and physical realms. In this blog post, we delve into the latest trends, key players, noteworthy news, and ethical considerations surrounding Embodied AI.\n",
      "\n",
      "**Latest Trends in Embodied AI**\n",
      "\n",
      "The integration of sensory perception and motor control in AI systems has opened up new possibilities for the field. Advancements in robotics and virtual agents equipped with physical bodies have paved the way for applications in various industries, including healthcare, manufacturing, and entertainment. These technologies are not only enhancing efficiency and productivity but also transforming the way humans interact with machines. The impact of Embodied AI on society is profound, as we witness the blurring of boundaries between humans and machines.\n",
      "\n",
      "**Key Players in the Industry**\n",
      "\n",
      "Companies like Boston Dynamics, known for their groundbreaking work in robotics, and SoftBank Robotics, a pioneer in developing humanoid robots, are leading the charge in the realm of Embodied AI. Research institutions and universities are also playing a crucial role in pushing the boundaries of what is possible in this field. Their collaborative efforts are driving innovation and shaping the future of AI technologies. The expertise and resources invested by these key players are instrumental in driving the momentum of Embodied AI forward.\n",
      "\n",
      "**Noteworthy News and Developments**\n",
      "\n",
      "Recent breakthroughs in human-robot interaction and collaboration have captured the attention of the AI community. From robots assisting in surgical procedures to virtual agents enhancing customer service experiences, the potential applications of Embodied AI are vast. However, with these advancements come ethical considerations and challenges. As AI technologies become more integrated into our daily lives, questions surrounding privacy, security, and accountability must be addressed. It is essential to navigate these complexities thoughtfully and responsibly to ensure a future where AI benefits society as a whole.\n",
      "\n",
      "**Ethical Considerations and Future Implications**\n",
      "\n",
      "As we look towards the future of Embodied AI, it is crucial to consider the ethical implications of these technologies. Ensuring that AI systems are designed and implemented ethically is paramount to building trust and acceptance among users. The potential societal impact of Embodied AI is vast, from revolutionizing healthcare to transforming the way we work and play. By addressing ethical concerns and actively engaging in discussions on the future implications of AI, we can steer the development of Embodied AI towards a more inclusive and beneficial future for all.\n",
      "\n",
      "**Call to Action**\n",
      "\n",
      "For those interested in delving deeper into the world of Embodied AI, there are numerous resources available for further reading and learning. From academic papers to industry reports, there is a wealth of information waiting to be explored. Stay informed on the latest trends, engage in discussions on ethical AI practices, and be part of shaping the future of artificial intelligence. The journey towards a more embodied and intelligent AI future begins with each of us taking an active interest in this evolving field.\n",
      "\n",
      "In conclusion, the rise of Embodied AI represents a significant milestone in the evolution of artificial intelligence. By embracing the integration of physical bodies into AI systems, we are opening up new possibilities for human-machine interaction and collaboration. As we navigate the challenges and opportunities presented by Embodied AI, let us strive to build a future where AI technologies enhance our lives and empower us to create a more inclusive and sustainable world.\n",
      "\n",
      "\u001b[00m\n",
      "\u001b[1m\u001b[95m [DEBUG]: == Working Agent: Editor\u001b[00m\n",
      "\u001b[1m\u001b[95m [INFO]: == Starting Task: Proofread the given blog post for grammatical errors and alignment with the brand's voice.\u001b[00m\n",
      "\n",
      "\n",
      "\u001b[1m> Entering new CrewAgentExecutor chain...\u001b[0m\n"
     ]
    },
    {
     "name": "stdout",
     "output_type": "stream",
     "text": [
      "\u001b[32;1m\u001b[1;3mI now can give a great answer\n",
      "\n",
      "Final Answer: \n",
      "\n",
      "# Exploring the Future of Artificial Intelligence: The Rise of Embodied AI\n",
      "\n",
      "**Introduction**\n",
      "\n",
      "Artificial Intelligence (AI) has undergone remarkable advancements in recent years, with one of the most intriguing developments being the emergence of Embodied AI. This innovative approach integrates sensory perception and motor control into AI systems, allowing them to interact with the physical world in a more human-like manner. Key players in the industry, such as Boston Dynamics, SoftBank Robotics, and Hanson Robotics, have been at the forefront of developing technologies that bridge the gap between the virtual and physical realms. In this blog post, we delve into the latest trends, key players, noteworthy news, and ethical considerations surrounding Embodied AI.\n",
      "\n",
      "**Latest Trends in Embodied AI**\n",
      "\n",
      "The integration of sensory perception and motor control in AI systems has opened up new possibilities for the field. Advancements in robotics and virtual agents equipped with physical bodies have paved the way for applications in various industries, including healthcare, manufacturing, and entertainment. These technologies are not only enhancing efficiency and productivity but also transforming the way humans interact with machines. The impact of Embodied AI on society is profound, as we witness the blurring of boundaries between humans and machines.\n",
      "\n",
      "**Key Players in the Industry**\n",
      "\n",
      "Companies like Boston Dynamics, known for their groundbreaking work in robotics, and SoftBank Robotics, a pioneer in developing humanoid robots, are leading the charge in the realm of Embodied AI. Research institutions and universities are also playing a crucial role in pushing the boundaries of what is possible in this field. Their collaborative efforts are driving innovation and shaping the future of AI technologies. The expertise and resources invested by these key players are instrumental in driving the momentum of Embodied AI forward.\n",
      "\n",
      "**Noteworthy News and Developments**\n",
      "\n",
      "Recent breakthroughs in human-robot interaction and collaboration have captured the attention of the AI community. From robots assisting in surgical procedures to virtual agents enhancing customer service experiences, the potential applications of Embodied AI are vast. However, with these advancements come ethical considerations and challenges. As AI technologies become more integrated into our daily lives, questions surrounding privacy, security, and accountability must be addressed. It is essential to navigate these complexities thoughtfully and responsibly to ensure a future where AI benefits society as a whole.\n",
      "\n",
      "**Ethical Considerations and Future Implications**\n",
      "\n",
      "As we look towards the future of Embodied AI, it is crucial to consider the ethical implications of these technologies. Ensuring that AI systems are designed and implemented ethically is paramount to building trust and acceptance among users. The potential societal impact of Embodied AI is vast, from revolutionizing healthcare to transforming the way we work and play. By addressing ethical concerns and actively engaging in discussions on the future implications of AI, we can steer the development of Embodied AI towards a more inclusive and beneficial future for all.\n",
      "\n",
      "**Call to Action**\n",
      "\n",
      "For those interested in delving deeper into the world of Embodied AI, there are numerous resources available for further reading and learning. From academic papers to industry reports, there is a wealth of information waiting to be explored. Stay informed on the latest trends, engage in discussions on ethical AI practices, and be part of shaping the future of artificial intelligence. The journey towards a more embodied and intelligent AI future begins with each of us taking an active interest in this evolving field.\n",
      "\n",
      "In conclusion, the rise of Embodied AI represents a significant milestone in the evolution of artificial intelligence. By embracing the integration of physical bodies into AI systems, we are opening up new possibilities for human-machine interaction and collaboration. As we navigate the challenges and opportunities presented by Embodied AI, let us strive to build a future where AI technologies enhance our lives and empower us to create a more inclusive and sustainable world.\u001b[0m\n",
      "\n",
      "\u001b[1m> Finished chain.\u001b[0m\n",
      "\u001b[1m\u001b[92m [DEBUG]: == [Editor] Task output: # Exploring the Future of Artificial Intelligence: The Rise of Embodied AI\n",
      "\n",
      "**Introduction**\n",
      "\n",
      "Artificial Intelligence (AI) has undergone remarkable advancements in recent years, with one of the most intriguing developments being the emergence of Embodied AI. This innovative approach integrates sensory perception and motor control into AI systems, allowing them to interact with the physical world in a more human-like manner. Key players in the industry, such as Boston Dynamics, SoftBank Robotics, and Hanson Robotics, have been at the forefront of developing technologies that bridge the gap between the virtual and physical realms. In this blog post, we delve into the latest trends, key players, noteworthy news, and ethical considerations surrounding Embodied AI.\n",
      "\n",
      "**Latest Trends in Embodied AI**\n",
      "\n",
      "The integration of sensory perception and motor control in AI systems has opened up new possibilities for the field. Advancements in robotics and virtual agents equipped with physical bodies have paved the way for applications in various industries, including healthcare, manufacturing, and entertainment. These technologies are not only enhancing efficiency and productivity but also transforming the way humans interact with machines. The impact of Embodied AI on society is profound, as we witness the blurring of boundaries between humans and machines.\n",
      "\n",
      "**Key Players in the Industry**\n",
      "\n",
      "Companies like Boston Dynamics, known for their groundbreaking work in robotics, and SoftBank Robotics, a pioneer in developing humanoid robots, are leading the charge in the realm of Embodied AI. Research institutions and universities are also playing a crucial role in pushing the boundaries of what is possible in this field. Their collaborative efforts are driving innovation and shaping the future of AI technologies. The expertise and resources invested by these key players are instrumental in driving the momentum of Embodied AI forward.\n",
      "\n",
      "**Noteworthy News and Developments**\n",
      "\n",
      "Recent breakthroughs in human-robot interaction and collaboration have captured the attention of the AI community. From robots assisting in surgical procedures to virtual agents enhancing customer service experiences, the potential applications of Embodied AI are vast. However, with these advancements come ethical considerations and challenges. As AI technologies become more integrated into our daily lives, questions surrounding privacy, security, and accountability must be addressed. It is essential to navigate these complexities thoughtfully and responsibly to ensure a future where AI benefits society as a whole.\n",
      "\n",
      "**Ethical Considerations and Future Implications**\n",
      "\n",
      "As we look towards the future of Embodied AI, it is crucial to consider the ethical implications of these technologies. Ensuring that AI systems are designed and implemented ethically is paramount to building trust and acceptance among users. The potential societal impact of Embodied AI is vast, from revolutionizing healthcare to transforming the way we work and play. By addressing ethical concerns and actively engaging in discussions on the future implications of AI, we can steer the development of Embodied AI towards a more inclusive and beneficial future for all.\n",
      "\n",
      "**Call to Action**\n",
      "\n",
      "For those interested in delving deeper into the world of Embodied AI, there are numerous resources available for further reading and learning. From academic papers to industry reports, there is a wealth of information waiting to be explored. Stay informed on the latest trends, engage in discussions on ethical AI practices, and be part of shaping the future of artificial intelligence. The journey towards a more embodied and intelligent AI future begins with each of us taking an active interest in this evolving field.\n",
      "\n",
      "In conclusion, the rise of Embodied AI represents a significant milestone in the evolution of artificial intelligence. By embracing the integration of physical bodies into AI systems, we are opening up new possibilities for human-machine interaction and collaboration. As we navigate the challenges and opportunities presented by Embodied AI, let us strive to build a future where AI technologies enhance our lives and empower us to create a more inclusive and sustainable world.\n",
      "\n",
      "\u001b[00m\n"
     ]
    }
   ],
   "source": [
    "topic = \"Embodied AI\"\n",
    "result = crew.kickoff(inputs={\"topic\": topic})"
   ]
  },
  {
   "cell_type": "code",
   "execution_count": 14,
   "metadata": {
    "height": 30
   },
   "outputs": [
    {
     "data": {
      "text/markdown": [
       "# Exploring the Future of Artificial Intelligence: The Rise of Embodied AI\n",
       "\n",
       "**Introduction**\n",
       "\n",
       "Artificial Intelligence (AI) has undergone remarkable advancements in recent years, with one of the most intriguing developments being the emergence of Embodied AI. This innovative approach integrates sensory perception and motor control into AI systems, allowing them to interact with the physical world in a more human-like manner. Key players in the industry, such as Boston Dynamics, SoftBank Robotics, and Hanson Robotics, have been at the forefront of developing technologies that bridge the gap between the virtual and physical realms. In this blog post, we delve into the latest trends, key players, noteworthy news, and ethical considerations surrounding Embodied AI.\n",
       "\n",
       "**Latest Trends in Embodied AI**\n",
       "\n",
       "The integration of sensory perception and motor control in AI systems has opened up new possibilities for the field. Advancements in robotics and virtual agents equipped with physical bodies have paved the way for applications in various industries, including healthcare, manufacturing, and entertainment. These technologies are not only enhancing efficiency and productivity but also transforming the way humans interact with machines. The impact of Embodied AI on society is profound, as we witness the blurring of boundaries between humans and machines.\n",
       "\n",
       "**Key Players in the Industry**\n",
       "\n",
       "Companies like Boston Dynamics, known for their groundbreaking work in robotics, and SoftBank Robotics, a pioneer in developing humanoid robots, are leading the charge in the realm of Embodied AI. Research institutions and universities are also playing a crucial role in pushing the boundaries of what is possible in this field. Their collaborative efforts are driving innovation and shaping the future of AI technologies. The expertise and resources invested by these key players are instrumental in driving the momentum of Embodied AI forward.\n",
       "\n",
       "**Noteworthy News and Developments**\n",
       "\n",
       "Recent breakthroughs in human-robot interaction and collaboration have captured the attention of the AI community. From robots assisting in surgical procedures to virtual agents enhancing customer service experiences, the potential applications of Embodied AI are vast. However, with these advancements come ethical considerations and challenges. As AI technologies become more integrated into our daily lives, questions surrounding privacy, security, and accountability must be addressed. It is essential to navigate these complexities thoughtfully and responsibly to ensure a future where AI benefits society as a whole.\n",
       "\n",
       "**Ethical Considerations and Future Implications**\n",
       "\n",
       "As we look towards the future of Embodied AI, it is crucial to consider the ethical implications of these technologies. Ensuring that AI systems are designed and implemented ethically is paramount to building trust and acceptance among users. The potential societal impact of Embodied AI is vast, from revolutionizing healthcare to transforming the way we work and play. By addressing ethical concerns and actively engaging in discussions on the future implications of AI, we can steer the development of Embodied AI towards a more inclusive and beneficial future for all.\n",
       "\n",
       "**Call to Action**\n",
       "\n",
       "For those interested in delving deeper into the world of Embodied AI, there are numerous resources available for further reading and learning. From academic papers to industry reports, there is a wealth of information waiting to be explored. Stay informed on the latest trends, engage in discussions on ethical AI practices, and be part of shaping the future of artificial intelligence. The journey towards a more embodied and intelligent AI future begins with each of us taking an active interest in this evolving field.\n",
       "\n",
       "In conclusion, the rise of Embodied AI represents a significant milestone in the evolution of artificial intelligence. By embracing the integration of physical bodies into AI systems, we are opening up new possibilities for human-machine interaction and collaboration. As we navigate the challenges and opportunities presented by Embodied AI, let us strive to build a future where AI technologies enhance our lives and empower us to create a more inclusive and sustainable world."
      ],
      "text/plain": [
       "<IPython.core.display.Markdown object>"
      ]
     },
     "execution_count": 14,
     "metadata": {},
     "output_type": "execute_result"
    }
   ],
   "source": [
    "Markdown(result)"
   ]
  },
  {
   "cell_type": "markdown",
   "metadata": {},
   "source": [
    "<a name='1'></a>\n",
    " ## Other Popular Models as LLM for your Agents"
   ]
  },
  {
   "cell_type": "markdown",
   "metadata": {},
   "source": [
    "#### Hugging Face (HuggingFaceHub endpoint)\n",
    "\n",
    "```Python\n",
    "from langchain_community.llms import HuggingFaceHub\n",
    "\n",
    "llm = HuggingFaceHub(\n",
    "    repo_id=\"HuggingFaceH4/zephyr-7b-beta\",\n",
    "    huggingfacehub_api_token=\"<HF_TOKEN_HERE>\",\n",
    "    task=\"text-generation\",\n",
    ")\n",
    "\n",
    "### you will pass \"llm\" to your agent function\n",
    "```"
   ]
  },
  {
   "cell_type": "markdown",
   "metadata": {},
   "source": [
    "#### Mistral API\n",
    "\n",
    "```Python\n",
    "OPENAI_API_KEY=your-mistral-api-key\n",
    "OPENAI_API_BASE=https://api.mistral.ai/v1\n",
    "OPENAI_MODEL_NAME=\"mistral-small\"\n",
    "```"
   ]
  },
  {
   "cell_type": "markdown",
   "metadata": {},
   "source": [
    "#### Cohere\n",
    "\n",
    "```Python\n",
    "from langchain_community.chat_models import ChatCohere\n",
    "# Initialize language model\n",
    "os.environ[\"COHERE_API_KEY\"] = \"your-cohere-api-key\"\n",
    "llm = ChatCohere()\n",
    "\n",
    "### you will pass \"llm\" to your agent function\n",
    "```"
   ]
  },
  {
   "cell_type": "markdown",
   "metadata": {},
   "source": [
    "### For using Llama locally with Ollama and more, checkout the crewAI documentation on [Connecting to any LLM](https://docs.crewai.com/how-to/LLM-Connections/)."
   ]
  },
  {
   "cell_type": "code",
   "execution_count": null,
   "metadata": {
    "height": 30
   },
   "outputs": [],
   "source": []
  },
  {
   "cell_type": "code",
   "execution_count": null,
   "metadata": {
    "height": 30
   },
   "outputs": [],
   "source": []
  },
  {
   "cell_type": "code",
   "execution_count": null,
   "metadata": {
    "height": 30
   },
   "outputs": [],
   "source": []
  }
 ],
 "metadata": {
  "colab": {
   "gpuType": "T4",
   "provenance": []
  },
  "kernelspec": {
   "display_name": "Python 3 (ipykernel)",
   "language": "python",
   "name": "python3"
  },
  "language_info": {
   "codemirror_mode": {
    "name": "ipython",
    "version": 3
   },
   "file_extension": ".py",
   "mimetype": "text/x-python",
   "name": "python",
   "nbconvert_exporter": "python",
   "pygments_lexer": "ipython3",
   "version": "3.12.3"
  }
 },
 "nbformat": 4,
 "nbformat_minor": 4
}
